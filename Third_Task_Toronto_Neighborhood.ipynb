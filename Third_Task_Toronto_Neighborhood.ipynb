{
 "cells": [
  {
   "cell_type": "markdown",
   "metadata": {},
   "source": [
    "# Exploring Torontos's neighborhoods - Complete Notebook"
   ]
  },
  {
   "cell_type": "markdown",
   "metadata": {},
   "source": [
    "This is the complete notebook for \"Segmenting and Clustering Neighborhoods in Toronto\" task from IBM Data Science Certificate course.\n",
    "It includes two previous tasks already posted on Github to be revised."
   ]
  },
  {
   "cell_type": "markdown",
   "metadata": {},
   "source": [
    "### First task: getting data about Toronto's neighborhoods on Wikipedia"
   ]
  },
  {
   "cell_type": "code",
   "execution_count": 1,
   "metadata": {},
   "outputs": [],
   "source": [
    "import pandas as pd\n",
    "from bs4 import BeautifulSoup\n",
    "import requests\n",
    "import numpy as np"
   ]
  },
  {
   "cell_type": "code",
   "execution_count": 2,
   "metadata": {},
   "outputs": [],
   "source": [
    "# create html variable and an empty dataframe\n",
    "url = 'https://en.wikipedia.org/wiki/List_of_postal_codes_of_Canada:_M'\n",
    "toronto_hoods = pd.DataFrame(columns=['PostalCode', 'Borough', 'Neighborhood'])"
   ]
  },
  {
   "cell_type": "code",
   "execution_count": 3,
   "metadata": {},
   "outputs": [],
   "source": [
    "# open html using BeautifulSoup\n",
    "source = requests.get(url).text\n",
    "soup = BeautifulSoup(source, 'html.parser')"
   ]
  },
  {
   "cell_type": "code",
   "execution_count": 4,
   "metadata": {},
   "outputs": [
    {
     "name": "stdout",
     "output_type": "stream",
     "text": [
      "['M1A\\nNot assigned\\nNot assigned', 'M2A\\nNot assigned\\nNot assigned', 'M3A\\nNorth York\\nParkwoods', 'M4A\\nNorth York\\nVictoria Village', 'M5A\\nDowntown Toronto\\nHarbourfront', 'M6A\\nNorth York\\nLawrence Heights', 'M6A\\nNorth York\\nLawrence Manor', \"M7A\\nDowntown Toronto\\nQueen's Park\", 'M8A\\nNot assigned\\nNot assigned', \"M9A\\nQueen's Park\\nNot assigned\", 'M1B\\nScarborough\\nRouge', 'M1B\\nScarborough\\nMalvern', 'M2B\\nNot assigned\\nNot assigned', 'M3B\\nNorth York\\nDon Mills North', 'M4B\\nEast York\\nWoodbine Gardens', 'M4B\\nEast York\\nParkview Hill', 'M5B\\nDowntown Toronto\\nRyerson', 'M5B\\nDowntown Toronto\\nGarden District', 'M6B\\nNorth York\\nGlencairn', 'M7B\\nNot assigned\\nNot assigned', 'M8B\\nNot assigned\\nNot assigned', 'M9B\\nEtobicoke\\nCloverdale', 'M9B\\nEtobicoke\\nIslington', 'M9B\\nEtobicoke\\nMartin Grove', 'M9B\\nEtobicoke\\nPrincess Gardens', 'M9B\\nEtobicoke\\nWest Deane Park', 'M1C\\nScarborough\\nHighland Creek', 'M1C\\nScarborough\\nRouge Hill', 'M1C\\nScarborough\\nPort Union', 'M2C\\nNot assigned\\nNot assigned', 'M3C\\nNorth York\\nFlemingdon Park', 'M3C\\nNorth York\\nDon Mills South', 'M4C\\nEast York\\nWoodbine Heights', 'M5C\\nDowntown Toronto\\nSt. James Town', 'M6C\\nYork\\nHumewood-Cedarvale', 'M7C\\nNot assigned\\nNot assigned', 'M8C\\nNot assigned\\nNot assigned', 'M9C\\nEtobicoke\\nBloordale Gardens', 'M9C\\nEtobicoke\\nEringate', 'M9C\\nEtobicoke\\nMarkland Wood', 'M9C\\nEtobicoke\\nOld Burnhamthorpe', 'M1E\\nScarborough\\nGuildwood', 'M1E\\nScarborough\\nMorningside', 'M1E\\nScarborough\\nWest Hill', 'M2E\\nNot assigned\\nNot assigned', 'M3E\\nNot assigned\\nNot assigned', 'M4E\\nEast Toronto\\nThe Beaches', 'M5E\\nDowntown Toronto\\nBerczy Park', 'M6E\\nYork\\nCaledonia-Fairbanks', 'M7E\\nNot assigned\\nNot assigned', 'M8E\\nNot assigned\\nNot assigned', 'M9E\\nNot assigned\\nNot assigned', 'M1G\\nScarborough\\nWoburn', 'M2G\\nNot assigned\\nNot assigned', 'M3G\\nNot assigned\\nNot assigned', 'M4G\\nEast York\\nLeaside', 'M5G\\nDowntown Toronto\\nCentral Bay Street', 'M6G\\nDowntown Toronto\\nChristie', 'M7G\\nNot assigned\\nNot assigned', 'M8G\\nNot assigned\\nNot assigned', 'M9G\\nNot assigned\\nNot assigned', 'M1H\\nScarborough\\nCedarbrae', 'M2H\\nNorth York\\nHillcrest Village', 'M3H\\nNorth York\\nBathurst Manor', 'M3H\\nNorth York\\nDownsview North', 'M3H\\nNorth York\\nWilson Heights', 'M4H\\nEast York\\nThorncliffe Park', 'M5H\\nDowntown Toronto\\nAdelaide', 'M5H\\nDowntown Toronto\\nKing', 'M5H\\nDowntown Toronto\\nRichmond', 'M6H\\nWest Toronto\\nDovercourt Village', 'M6H\\nWest Toronto\\nDufferin', 'M7H\\nNot assigned\\nNot assigned', 'M8H\\nNot assigned\\nNot assigned', 'M9H\\nNot assigned\\nNot assigned', 'M1J\\nScarborough\\nScarborough Village', 'M2J\\nNorth York\\nFairview', 'M2J\\nNorth York\\nHenry Farm', 'M2J\\nNorth York\\nOriole', 'M3J\\nNorth York\\nNorthwood Park', 'M3J\\nNorth York\\nYork University', 'M4J\\nEast York\\nEast Toronto', 'M5J\\nDowntown Toronto\\nHarbourfront East', 'M5J\\nDowntown Toronto\\nToronto Islands', 'M5J\\nDowntown Toronto\\nUnion Station', 'M6J\\nWest Toronto\\nLittle Portugal', 'M6J\\nWest Toronto\\nTrinity', 'M7J\\nNot assigned\\nNot assigned', 'M8J\\nNot assigned\\nNot assigned', 'M9J\\nNot assigned\\nNot assigned', 'M1K\\nScarborough\\nEast Birchmount Park', 'M1K\\nScarborough\\nIonview', 'M1K\\nScarborough\\nKennedy Park', 'M2K\\nNorth York\\nBayview Village', 'M3K\\nNorth York\\nCFB Toronto', 'M3K\\nNorth York\\nDownsview East', 'M4K\\nEast Toronto\\nThe Danforth West', 'M4K\\nEast Toronto\\nRiverdale', 'M5K\\nDowntown Toronto\\nDesign Exchange', 'M5K\\nDowntown Toronto\\nToronto Dominion Centre', 'M6K\\nWest Toronto\\nBrockton', 'M6K\\nWest Toronto\\nExhibition Place', 'M6K\\nWest Toronto\\nParkdale Village', 'M7K\\nNot assigned\\nNot assigned', 'M8K\\nNot assigned\\nNot assigned', 'M9K\\nNot assigned\\nNot assigned', 'M1L\\nScarborough\\nClairlea', 'M1L\\nScarborough\\nGolden Mile', 'M1L\\nScarborough\\nOakridge', 'M2L\\nNorth York\\nSilver Hills', 'M2L\\nNorth York\\nYork Mills', 'M3L\\nNorth York\\nDownsview West', 'M4L\\nEast Toronto\\nThe Beaches West', 'M4L\\nEast Toronto\\nIndia Bazaar', 'M5L\\nDowntown Toronto\\nCommerce Court', 'M5L\\nDowntown Toronto\\nVictoria Hotel', 'M6L\\nNorth York\\nDownsview', 'M6L\\nNorth York\\nNorth Park', 'M6L\\nNorth York\\nUpwood Park', 'M7L\\nNot assigned\\nNot assigned', 'M8L\\nNot assigned\\nNot assigned', 'M9L\\nNorth York\\nHumber Summit', 'M1M\\nScarborough\\nCliffcrest', 'M1M\\nScarborough\\nCliffside', 'M1M\\nScarborough\\nScarborough Village West', 'M2M\\nNorth York\\nNewtonbrook', 'M2M\\nNorth York\\nWillowdale', 'M3M\\nNorth York\\nDownsview Central', 'M4M\\nEast Toronto\\nStudio District', 'M5M\\nNorth York\\nBedford Park', 'M5M\\nNorth York\\nLawrence Manor East', 'M6M\\nYork\\nDel Ray', 'M6M\\nYork\\nKeelesdale', 'M6M\\nYork\\nMount Dennis', 'M6M\\nYork\\nSilverthorn', 'M7M\\nNot assigned\\nNot assigned', 'M8M\\nNot assigned\\nNot assigned', 'M9M\\nNorth York\\nEmery', 'M9M\\nNorth York\\nHumberlea', 'M1N\\nScarborough\\nBirch Cliff', 'M1N\\nScarborough\\nCliffside West', 'M2N\\nNorth York\\nWillowdale South', 'M3N\\nNorth York\\nDownsview Northwest', 'M4N\\nCentral Toronto\\nLawrence Park', 'M5N\\nCentral Toronto\\nRoselawn', 'M6N\\nYork\\nThe Junction North', 'M6N\\nYork\\nRunnymede', 'M7N\\nNot assigned\\nNot assigned', 'M8N\\nNot assigned\\nNot assigned', 'M9N\\nYork\\nWeston', 'M1P\\nScarborough\\nDorset Park', 'M1P\\nScarborough\\nScarborough Town Centre', 'M1P\\nScarborough\\nWexford Heights', 'M2P\\nNorth York\\nYork Mills West', 'M3P\\nNot assigned\\nNot assigned', 'M4P\\nCentral Toronto\\nDavisville North', 'M5P\\nCentral Toronto\\nForest Hill North', 'M5P\\nCentral Toronto\\nForest Hill West', 'M6P\\nWest Toronto\\nHigh Park', 'M6P\\nWest Toronto\\nThe Junction South', 'M7P\\nNot assigned\\nNot assigned', 'M8P\\nNot assigned\\nNot assigned', 'M9P\\nEtobicoke\\nWestmount', 'M1R\\nScarborough\\nMaryvale', 'M1R\\nScarborough\\nWexford', 'M2R\\nNorth York\\nWillowdale West', 'M3R\\nNot assigned\\nNot assigned', 'M4R\\nCentral Toronto\\nNorth Toronto West', 'M5R\\nCentral Toronto\\nThe Annex', 'M5R\\nCentral Toronto\\nNorth Midtown', 'M5R\\nCentral Toronto\\nYorkville', 'M6R\\nWest Toronto\\nParkdale', 'M6R\\nWest Toronto\\nRoncesvalles', 'M7R\\nMississauga\\nCanada Post Gateway Processing Centre', 'M8R\\nNot assigned\\nNot assigned', 'M9R\\nEtobicoke\\nKingsview Village', 'M9R\\nEtobicoke\\nMartin Grove Gardens', 'M9R\\nEtobicoke\\nRichview Gardens', 'M9R\\nEtobicoke\\nSt. Phillips', 'M1S\\nScarborough\\nAgincourt', 'M2S\\nNot assigned\\nNot assigned', 'M3S\\nNot assigned\\nNot assigned', 'M4S\\nCentral Toronto\\nDavisville', 'M5S\\nDowntown Toronto\\nHarbord', 'M5S\\nDowntown Toronto\\nUniversity of Toronto', 'M6S\\nWest Toronto\\nRunnymede', 'M6S\\nWest Toronto\\nSwansea', 'M7S\\nNot assigned\\nNot assigned', 'M8S\\nNot assigned\\nNot assigned', 'M9S\\nNot assigned\\nNot assigned', 'M1T\\nScarborough\\nClarks Corners', 'M1T\\nScarborough\\nSullivan', \"M1T\\nScarborough\\nTam O'Shanter\", 'M2T\\nNot assigned\\nNot assigned', 'M3T\\nNot assigned\\nNot assigned', 'M4T\\nCentral Toronto\\nMoore Park', 'M4T\\nCentral Toronto\\nSummerhill East', 'M5T\\nDowntown Toronto\\nChinatown', 'M5T\\nDowntown Toronto\\nGrange Park', 'M5T\\nDowntown Toronto\\nKensington Market', 'M6T\\nNot assigned\\nNot assigned', 'M7T\\nNot assigned\\nNot assigned', 'M8T\\nNot assigned\\nNot assigned', 'M9T\\nNot assigned\\nNot assigned', 'M1V\\nScarborough\\nAgincourt North', \"M1V\\nScarborough\\nL'Amoreaux East\", 'M1V\\nScarborough\\nMilliken', 'M1V\\nScarborough\\nSteeles East', 'M2V\\nNot assigned\\nNot assigned', 'M3V\\nNot assigned\\nNot assigned', 'M4V\\nCentral Toronto\\nDeer Park', 'M4V\\nCentral Toronto\\nForest Hill SE', 'M4V\\nCentral Toronto\\nRathnelly', 'M4V\\nCentral Toronto\\nSouth Hill', 'M4V\\nCentral Toronto\\nSummerhill West', 'M5V\\nDowntown Toronto\\nCN Tower', 'M5V\\nDowntown Toronto\\nBathurst Quay', 'M5V\\nDowntown Toronto\\nIsland airport', 'M5V\\nDowntown Toronto\\nHarbourfront West', 'M5V\\nDowntown Toronto\\nKing and Spadina', 'M5V\\nDowntown Toronto\\nRailway Lands', 'M5V\\nDowntown Toronto\\nSouth Niagara', 'M6V\\nNot assigned\\nNot assigned', 'M7V\\nNot assigned\\nNot assigned', 'M8V\\nEtobicoke\\nHumber Bay Shores', 'M8V\\nEtobicoke\\nMimico South', 'M8V\\nEtobicoke\\nNew Toronto', 'M9V\\nEtobicoke\\nAlbion Gardens', 'M9V\\nEtobicoke\\nBeaumond Heights', 'M9V\\nEtobicoke\\nHumbergate', 'M9V\\nEtobicoke\\nJamestown', 'M9V\\nEtobicoke\\nMount Olive', 'M9V\\nEtobicoke\\nSilverstone', 'M9V\\nEtobicoke\\nSouth Steeles', 'M9V\\nEtobicoke\\nThistletown', \"M1W\\nScarborough\\nL'Amoreaux West\", 'M2W\\nNot assigned\\nNot assigned', 'M3W\\nNot assigned\\nNot assigned', 'M4W\\nDowntown Toronto\\nRosedale', 'M5W\\nDowntown Toronto\\nStn A PO Boxes 25 The Esplanade', 'M6W\\nNot assigned\\nNot assigned', 'M7W\\nNot assigned\\nNot assigned', 'M8W\\nEtobicoke\\nAlderwood', 'M8W\\nEtobicoke\\nLong Branch', 'M9W\\nEtobicoke\\nNorthwest', 'M1X\\nScarborough\\nUpper Rouge', 'M2X\\nNot assigned\\nNot assigned', 'M3X\\nNot assigned\\nNot assigned', 'M4X\\nDowntown Toronto\\nCabbagetown', 'M4X\\nDowntown Toronto\\nSt. James Town', 'M5X\\nDowntown Toronto\\nFirst Canadian Place', 'M5X\\nDowntown Toronto\\nUnderground city', 'M6X\\nNot assigned\\nNot assigned', 'M7X\\nNot assigned\\nNot assigned', 'M8X\\nEtobicoke\\nThe Kingsway', 'M8X\\nEtobicoke\\nMontgomery Road', 'M8X\\nEtobicoke\\nOld Mill North', 'M9X\\nNot assigned\\nNot assigned', 'M1Y\\nNot assigned\\nNot assigned', 'M2Y\\nNot assigned\\nNot assigned', 'M3Y\\nNot assigned\\nNot assigned', 'M4Y\\nDowntown Toronto\\nChurch and Wellesley', 'M5Y\\nNot assigned\\nNot assigned', 'M6Y\\nNot assigned\\nNot assigned', 'M7Y\\nEast Toronto\\nBusiness Reply Mail Processing Centre 969 Eastern', 'M8Y\\nEtobicoke\\nHumber Bay', \"M8Y\\nEtobicoke\\nKing's Mill Park\", 'M8Y\\nEtobicoke\\nKingsway Park South East', 'M8Y\\nEtobicoke\\nMimico NE', 'M8Y\\nEtobicoke\\nOld Mill South', 'M8Y\\nEtobicoke\\nThe Queensway East', 'M8Y\\nEtobicoke\\nRoyal York South East', 'M8Y\\nEtobicoke\\nSunnylea', 'M9Y\\nNot assigned\\nNot assigned', 'M1Z\\nNot assigned\\nNot assigned', 'M2Z\\nNot assigned\\nNot assigned', 'M3Z\\nNot assigned\\nNot assigned', 'M4Z\\nNot assigned\\nNot assigned', 'M5Z\\nNot assigned\\nNot assigned', 'M6Z\\nNot assigned\\nNot assigned', 'M7Z\\nNot assigned\\nNot assigned', 'M8Z\\nEtobicoke\\nKingsway Park South West', 'M8Z\\nEtobicoke\\nMimico NW', 'M8Z\\nEtobicoke\\nThe Queensway West', 'M8Z\\nEtobicoke\\nRoyal York South West', 'M8Z\\nEtobicoke\\nSouth of Bloor', 'M9Z\\nNot assigned\\nNot assigned\\n\\n']\n"
     ]
    }
   ],
   "source": [
    "# table separeted from the webpage using soup atributes\n",
    "table = soup.table\n",
    "table_rows = table.tbody.text\n",
    "\n",
    "# create a list with each row of table as a list element\n",
    "toronto_list = table_rows.split('\\n\\n\\n')\n",
    "\n",
    "# drop of the table head - the first element of the list\n",
    "toronto_list.pop(0)\n",
    "print(toronto_list)"
   ]
  },
  {
   "cell_type": "code",
   "execution_count": 5,
   "metadata": {},
   "outputs": [],
   "source": [
    "# separate each postalcode, borough, neighborhood from the list to a separate one\n",
    "\n",
    "postalcode = []\n",
    "borough = []\n",
    "neighborhood = []\n",
    "    \n",
    "for i in toronto_list:\n",
    "    row = i\n",
    "    row = row.split('\\n')\n",
    "    if row[1] != 'Not assigned':\n",
    "        postalcode.append(row[0])\n",
    "        borough.append(row[1])\n",
    "        neighborhood.append(row[2]) \n",
    "        \n",
    "    else:\n",
    "        pass"
   ]
  },
  {
   "cell_type": "code",
   "execution_count": 6,
   "metadata": {},
   "outputs": [
    {
     "data": {
      "text/html": [
       "<div>\n",
       "<style scoped>\n",
       "    .dataframe tbody tr th:only-of-type {\n",
       "        vertical-align: middle;\n",
       "    }\n",
       "\n",
       "    .dataframe tbody tr th {\n",
       "        vertical-align: top;\n",
       "    }\n",
       "\n",
       "    .dataframe thead th {\n",
       "        text-align: right;\n",
       "    }\n",
       "</style>\n",
       "<table border=\"1\" class=\"dataframe\">\n",
       "  <thead>\n",
       "    <tr style=\"text-align: right;\">\n",
       "      <th></th>\n",
       "      <th>PostalCode</th>\n",
       "      <th>Borough</th>\n",
       "      <th>Neighborhood</th>\n",
       "    </tr>\n",
       "  </thead>\n",
       "  <tbody>\n",
       "    <tr>\n",
       "      <th>0</th>\n",
       "      <td>M3A</td>\n",
       "      <td>North York</td>\n",
       "      <td>Parkwoods</td>\n",
       "    </tr>\n",
       "    <tr>\n",
       "      <th>1</th>\n",
       "      <td>M4A</td>\n",
       "      <td>North York</td>\n",
       "      <td>Victoria Village</td>\n",
       "    </tr>\n",
       "    <tr>\n",
       "      <th>2</th>\n",
       "      <td>M5A</td>\n",
       "      <td>Downtown Toronto</td>\n",
       "      <td>Harbourfront</td>\n",
       "    </tr>\n",
       "    <tr>\n",
       "      <th>3</th>\n",
       "      <td>M6A</td>\n",
       "      <td>North York</td>\n",
       "      <td>Lawrence Heights</td>\n",
       "    </tr>\n",
       "    <tr>\n",
       "      <th>4</th>\n",
       "      <td>M6A</td>\n",
       "      <td>North York</td>\n",
       "      <td>Lawrence Manor</td>\n",
       "    </tr>\n",
       "    <tr>\n",
       "      <th>5</th>\n",
       "      <td>M7A</td>\n",
       "      <td>Downtown Toronto</td>\n",
       "      <td>Queen's Park</td>\n",
       "    </tr>\n",
       "    <tr>\n",
       "      <th>6</th>\n",
       "      <td>M9A</td>\n",
       "      <td>Queen's Park</td>\n",
       "      <td>Not assigned</td>\n",
       "    </tr>\n",
       "    <tr>\n",
       "      <th>7</th>\n",
       "      <td>M1B</td>\n",
       "      <td>Scarborough</td>\n",
       "      <td>Rouge</td>\n",
       "    </tr>\n",
       "    <tr>\n",
       "      <th>8</th>\n",
       "      <td>M1B</td>\n",
       "      <td>Scarborough</td>\n",
       "      <td>Malvern</td>\n",
       "    </tr>\n",
       "    <tr>\n",
       "      <th>9</th>\n",
       "      <td>M3B</td>\n",
       "      <td>North York</td>\n",
       "      <td>Don Mills North</td>\n",
       "    </tr>\n",
       "  </tbody>\n",
       "</table>\n",
       "</div>"
      ],
      "text/plain": [
       "  PostalCode           Borough      Neighborhood\n",
       "0        M3A        North York         Parkwoods\n",
       "1        M4A        North York  Victoria Village\n",
       "2        M5A  Downtown Toronto      Harbourfront\n",
       "3        M6A        North York  Lawrence Heights\n",
       "4        M6A        North York    Lawrence Manor\n",
       "5        M7A  Downtown Toronto      Queen's Park\n",
       "6        M9A      Queen's Park      Not assigned\n",
       "7        M1B       Scarborough             Rouge\n",
       "8        M1B       Scarborough           Malvern\n",
       "9        M3B        North York   Don Mills North"
      ]
     },
     "execution_count": 6,
     "metadata": {},
     "output_type": "execute_result"
    }
   ],
   "source": [
    "#alocate each lists values into the dataframe\n",
    "\n",
    "for i in range(len(postalcode)):\n",
    "    toronto_hoods = toronto_hoods.append({'PostalCode' : postalcode[i] , 'Borough' : borough[i], 'Neighborhood' : neighborhood[i]}, ignore_index=True)\n",
    "\n",
    "toronto_hoods.head(10)"
   ]
  },
  {
   "cell_type": "code",
   "execution_count": 7,
   "metadata": {},
   "outputs": [
    {
     "data": {
      "text/plain": [
       "PostalCode      0\n",
       "Borough         0\n",
       "Neighborhood    1\n",
       "dtype: int64"
      ]
     },
     "execution_count": 7,
     "metadata": {},
     "output_type": "execute_result"
    }
   ],
   "source": [
    "# check cases of missing neighborhoods\n",
    "toronto_hoods.replace('Not assigned', np.nan, inplace=True)\n",
    "toronto_hoods.isnull().sum()"
   ]
  },
  {
   "cell_type": "code",
   "execution_count": 8,
   "metadata": {},
   "outputs": [],
   "source": [
    "# replace missing neighborhoods\n",
    "toronto_hoods.loc[6].replace(np.nan, 'Queen\\'s Park', inplace=True)"
   ]
  },
  {
   "cell_type": "code",
   "execution_count": 9,
   "metadata": {},
   "outputs": [
    {
     "name": "stdout",
     "output_type": "stream",
     "text": [
      "<class 'pandas.core.frame.DataFrame'>\n"
     ]
    }
   ],
   "source": [
    "print(type(toronto_hoods))"
   ]
  },
  {
   "cell_type": "code",
   "execution_count": 10,
   "metadata": {},
   "outputs": [],
   "source": [
    "# aggregate neighborhoods according to postalcode\n",
    "strJoin = lambda x:\", \".join(x.astype(str))\n",
    "toronto_hoods = toronto_hoods.groupby(['PostalCode', 'Borough'], as_index=False, sort=False).agg({'Neighborhood':strJoin})"
   ]
  },
  {
   "cell_type": "code",
   "execution_count": 11,
   "metadata": {
    "scrolled": true
   },
   "outputs": [
    {
     "data": {
      "text/html": [
       "<div>\n",
       "<style scoped>\n",
       "    .dataframe tbody tr th:only-of-type {\n",
       "        vertical-align: middle;\n",
       "    }\n",
       "\n",
       "    .dataframe tbody tr th {\n",
       "        vertical-align: top;\n",
       "    }\n",
       "\n",
       "    .dataframe thead th {\n",
       "        text-align: right;\n",
       "    }\n",
       "</style>\n",
       "<table border=\"1\" class=\"dataframe\">\n",
       "  <thead>\n",
       "    <tr style=\"text-align: right;\">\n",
       "      <th></th>\n",
       "      <th>PostalCode</th>\n",
       "      <th>Borough</th>\n",
       "      <th>Neighborhood</th>\n",
       "    </tr>\n",
       "  </thead>\n",
       "  <tbody>\n",
       "    <tr>\n",
       "      <th>0</th>\n",
       "      <td>M3A</td>\n",
       "      <td>North York</td>\n",
       "      <td>Parkwoods</td>\n",
       "    </tr>\n",
       "    <tr>\n",
       "      <th>1</th>\n",
       "      <td>M4A</td>\n",
       "      <td>North York</td>\n",
       "      <td>Victoria Village</td>\n",
       "    </tr>\n",
       "    <tr>\n",
       "      <th>2</th>\n",
       "      <td>M5A</td>\n",
       "      <td>Downtown Toronto</td>\n",
       "      <td>Harbourfront</td>\n",
       "    </tr>\n",
       "    <tr>\n",
       "      <th>3</th>\n",
       "      <td>M6A</td>\n",
       "      <td>North York</td>\n",
       "      <td>Lawrence Heights, Lawrence Manor</td>\n",
       "    </tr>\n",
       "    <tr>\n",
       "      <th>4</th>\n",
       "      <td>M7A</td>\n",
       "      <td>Downtown Toronto</td>\n",
       "      <td>Queen's Park</td>\n",
       "    </tr>\n",
       "  </tbody>\n",
       "</table>\n",
       "</div>"
      ],
      "text/plain": [
       "  PostalCode           Borough                      Neighborhood\n",
       "0        M3A        North York                         Parkwoods\n",
       "1        M4A        North York                  Victoria Village\n",
       "2        M5A  Downtown Toronto                      Harbourfront\n",
       "3        M6A        North York  Lawrence Heights, Lawrence Manor\n",
       "4        M7A  Downtown Toronto                      Queen's Park"
      ]
     },
     "execution_count": 11,
     "metadata": {},
     "output_type": "execute_result"
    }
   ],
   "source": [
    "toronto_hoods.head()"
   ]
  },
  {
   "cell_type": "code",
   "execution_count": 12,
   "metadata": {},
   "outputs": [
    {
     "data": {
      "text/plain": [
       "(103, 3)"
      ]
     },
     "execution_count": 12,
     "metadata": {},
     "output_type": "execute_result"
    }
   ],
   "source": [
    "toronto_hoods.shape"
   ]
  },
  {
   "cell_type": "markdown",
   "metadata": {},
   "source": [
    "## Second task: getting Toronto's neighborhoods geocoordenates"
   ]
  },
  {
   "cell_type": "code",
   "execution_count": 13,
   "metadata": {},
   "outputs": [
    {
     "data": {
      "text/html": [
       "<div>\n",
       "<style scoped>\n",
       "    .dataframe tbody tr th:only-of-type {\n",
       "        vertical-align: middle;\n",
       "    }\n",
       "\n",
       "    .dataframe tbody tr th {\n",
       "        vertical-align: top;\n",
       "    }\n",
       "\n",
       "    .dataframe thead th {\n",
       "        text-align: right;\n",
       "    }\n",
       "</style>\n",
       "<table border=\"1\" class=\"dataframe\">\n",
       "  <thead>\n",
       "    <tr style=\"text-align: right;\">\n",
       "      <th></th>\n",
       "      <th>PostalCode</th>\n",
       "      <th>Latitude</th>\n",
       "      <th>Longitude</th>\n",
       "    </tr>\n",
       "  </thead>\n",
       "  <tbody>\n",
       "    <tr>\n",
       "      <th>0</th>\n",
       "      <td>M1B</td>\n",
       "      <td>43.806686</td>\n",
       "      <td>-79.194353</td>\n",
       "    </tr>\n",
       "    <tr>\n",
       "      <th>1</th>\n",
       "      <td>M1C</td>\n",
       "      <td>43.784535</td>\n",
       "      <td>-79.160497</td>\n",
       "    </tr>\n",
       "    <tr>\n",
       "      <th>2</th>\n",
       "      <td>M1E</td>\n",
       "      <td>43.763573</td>\n",
       "      <td>-79.188711</td>\n",
       "    </tr>\n",
       "    <tr>\n",
       "      <th>3</th>\n",
       "      <td>M1G</td>\n",
       "      <td>43.770992</td>\n",
       "      <td>-79.216917</td>\n",
       "    </tr>\n",
       "    <tr>\n",
       "      <th>4</th>\n",
       "      <td>M1H</td>\n",
       "      <td>43.773136</td>\n",
       "      <td>-79.239476</td>\n",
       "    </tr>\n",
       "  </tbody>\n",
       "</table>\n",
       "</div>"
      ],
      "text/plain": [
       "  PostalCode   Latitude  Longitude\n",
       "0        M1B  43.806686 -79.194353\n",
       "1        M1C  43.784535 -79.160497\n",
       "2        M1E  43.763573 -79.188711\n",
       "3        M1G  43.770992 -79.216917\n",
       "4        M1H  43.773136 -79.239476"
      ]
     },
     "execution_count": 13,
     "metadata": {},
     "output_type": "execute_result"
    }
   ],
   "source": [
    "# use the csv file avaliable by Coursera to get geocoordenates. Unable to use the code.\n",
    "\n",
    "coordenates = 'https://cocl.us/Geospatial_data'\n",
    "latlong = pd.read_csv(coordenates)\n",
    "latlong.rename(columns = {'Postal Code':'PostalCode'}, inplace = True)\n",
    "latlong.head()"
   ]
  },
  {
   "cell_type": "code",
   "execution_count": 14,
   "metadata": {},
   "outputs": [],
   "source": [
    "# merge the two dataframes into one\n",
    "toronto_final = pd.merge(toronto_hoods, latlong, sort=True)"
   ]
  },
  {
   "cell_type": "code",
   "execution_count": 15,
   "metadata": {},
   "outputs": [
    {
     "data": {
      "text/html": [
       "<div>\n",
       "<style scoped>\n",
       "    .dataframe tbody tr th:only-of-type {\n",
       "        vertical-align: middle;\n",
       "    }\n",
       "\n",
       "    .dataframe tbody tr th {\n",
       "        vertical-align: top;\n",
       "    }\n",
       "\n",
       "    .dataframe thead th {\n",
       "        text-align: right;\n",
       "    }\n",
       "</style>\n",
       "<table border=\"1\" class=\"dataframe\">\n",
       "  <thead>\n",
       "    <tr style=\"text-align: right;\">\n",
       "      <th></th>\n",
       "      <th>PostalCode</th>\n",
       "      <th>Borough</th>\n",
       "      <th>Neighborhood</th>\n",
       "      <th>Latitude</th>\n",
       "      <th>Longitude</th>\n",
       "    </tr>\n",
       "  </thead>\n",
       "  <tbody>\n",
       "    <tr>\n",
       "      <th>0</th>\n",
       "      <td>M1B</td>\n",
       "      <td>Scarborough</td>\n",
       "      <td>Rouge, Malvern</td>\n",
       "      <td>43.806686</td>\n",
       "      <td>-79.194353</td>\n",
       "    </tr>\n",
       "    <tr>\n",
       "      <th>1</th>\n",
       "      <td>M1C</td>\n",
       "      <td>Scarborough</td>\n",
       "      <td>Highland Creek, Rouge Hill, Port Union</td>\n",
       "      <td>43.784535</td>\n",
       "      <td>-79.160497</td>\n",
       "    </tr>\n",
       "    <tr>\n",
       "      <th>2</th>\n",
       "      <td>M1E</td>\n",
       "      <td>Scarborough</td>\n",
       "      <td>Guildwood, Morningside, West Hill</td>\n",
       "      <td>43.763573</td>\n",
       "      <td>-79.188711</td>\n",
       "    </tr>\n",
       "    <tr>\n",
       "      <th>3</th>\n",
       "      <td>M1G</td>\n",
       "      <td>Scarborough</td>\n",
       "      <td>Woburn</td>\n",
       "      <td>43.770992</td>\n",
       "      <td>-79.216917</td>\n",
       "    </tr>\n",
       "    <tr>\n",
       "      <th>4</th>\n",
       "      <td>M1H</td>\n",
       "      <td>Scarborough</td>\n",
       "      <td>Cedarbrae</td>\n",
       "      <td>43.773136</td>\n",
       "      <td>-79.239476</td>\n",
       "    </tr>\n",
       "  </tbody>\n",
       "</table>\n",
       "</div>"
      ],
      "text/plain": [
       "  PostalCode      Borough                            Neighborhood   Latitude  \\\n",
       "0        M1B  Scarborough                          Rouge, Malvern  43.806686   \n",
       "1        M1C  Scarborough  Highland Creek, Rouge Hill, Port Union  43.784535   \n",
       "2        M1E  Scarborough       Guildwood, Morningside, West Hill  43.763573   \n",
       "3        M1G  Scarborough                                  Woburn  43.770992   \n",
       "4        M1H  Scarborough                               Cedarbrae  43.773136   \n",
       "\n",
       "   Longitude  \n",
       "0 -79.194353  \n",
       "1 -79.160497  \n",
       "2 -79.188711  \n",
       "3 -79.216917  \n",
       "4 -79.239476  "
      ]
     },
     "execution_count": 15,
     "metadata": {},
     "output_type": "execute_result"
    }
   ],
   "source": [
    "toronto_final.head()"
   ]
  },
  {
   "cell_type": "code",
   "execution_count": 16,
   "metadata": {},
   "outputs": [
    {
     "data": {
      "text/plain": [
       "(103, 5)"
      ]
     },
     "execution_count": 16,
     "metadata": {},
     "output_type": "execute_result"
    }
   ],
   "source": [
    "toronto_final.shape"
   ]
  },
  {
   "cell_type": "markdown",
   "metadata": {},
   "source": [
    "## Third task - Exploring and clustering Toronto's neighborhoods"
   ]
  },
  {
   "cell_type": "markdown",
   "metadata": {},
   "source": [
    "Now that the primary data are ready, I need to get some information about each neighborhood. I will focus only in Downtown's neighborhoods and I will use Foursquare to get this other data."
   ]
  },
  {
   "cell_type": "code",
   "execution_count": 17,
   "metadata": {},
   "outputs": [],
   "source": [
    "#!pip install geocoder\n",
    "#!pip install folium\n",
    "import geocoder\n",
    "import folium"
   ]
  },
  {
   "cell_type": "code",
   "execution_count": 18,
   "metadata": {},
   "outputs": [
    {
     "data": {
      "text/html": [
       "<div>\n",
       "<style scoped>\n",
       "    .dataframe tbody tr th:only-of-type {\n",
       "        vertical-align: middle;\n",
       "    }\n",
       "\n",
       "    .dataframe tbody tr th {\n",
       "        vertical-align: top;\n",
       "    }\n",
       "\n",
       "    .dataframe thead th {\n",
       "        text-align: right;\n",
       "    }\n",
       "</style>\n",
       "<table border=\"1\" class=\"dataframe\">\n",
       "  <thead>\n",
       "    <tr style=\"text-align: right;\">\n",
       "      <th></th>\n",
       "      <th>PostalCode</th>\n",
       "      <th>Borough</th>\n",
       "      <th>Neighborhood</th>\n",
       "      <th>Latitude</th>\n",
       "      <th>Longitude</th>\n",
       "    </tr>\n",
       "  </thead>\n",
       "  <tbody>\n",
       "    <tr>\n",
       "      <th>0</th>\n",
       "      <td>M4W</td>\n",
       "      <td>Downtown Toronto</td>\n",
       "      <td>Rosedale</td>\n",
       "      <td>43.679563</td>\n",
       "      <td>-79.377529</td>\n",
       "    </tr>\n",
       "    <tr>\n",
       "      <th>1</th>\n",
       "      <td>M4X</td>\n",
       "      <td>Downtown Toronto</td>\n",
       "      <td>Cabbagetown, St. James Town</td>\n",
       "      <td>43.667967</td>\n",
       "      <td>-79.367675</td>\n",
       "    </tr>\n",
       "    <tr>\n",
       "      <th>2</th>\n",
       "      <td>M4Y</td>\n",
       "      <td>Downtown Toronto</td>\n",
       "      <td>Church and Wellesley</td>\n",
       "      <td>43.665860</td>\n",
       "      <td>-79.383160</td>\n",
       "    </tr>\n",
       "    <tr>\n",
       "      <th>3</th>\n",
       "      <td>M5A</td>\n",
       "      <td>Downtown Toronto</td>\n",
       "      <td>Harbourfront</td>\n",
       "      <td>43.654260</td>\n",
       "      <td>-79.360636</td>\n",
       "    </tr>\n",
       "    <tr>\n",
       "      <th>4</th>\n",
       "      <td>M5B</td>\n",
       "      <td>Downtown Toronto</td>\n",
       "      <td>Ryerson, Garden District</td>\n",
       "      <td>43.657162</td>\n",
       "      <td>-79.378937</td>\n",
       "    </tr>\n",
       "  </tbody>\n",
       "</table>\n",
       "</div>"
      ],
      "text/plain": [
       "  PostalCode           Borough                 Neighborhood   Latitude  \\\n",
       "0        M4W  Downtown Toronto                     Rosedale  43.679563   \n",
       "1        M4X  Downtown Toronto  Cabbagetown, St. James Town  43.667967   \n",
       "2        M4Y  Downtown Toronto         Church and Wellesley  43.665860   \n",
       "3        M5A  Downtown Toronto                 Harbourfront  43.654260   \n",
       "4        M5B  Downtown Toronto     Ryerson, Garden District  43.657162   \n",
       "\n",
       "   Longitude  \n",
       "0 -79.377529  \n",
       "1 -79.367675  \n",
       "2 -79.383160  \n",
       "3 -79.360636  \n",
       "4 -79.378937  "
      ]
     },
     "execution_count": 18,
     "metadata": {},
     "output_type": "execute_result"
    }
   ],
   "source": [
    "# create a new dataframe with Downtown's neighborhoods only\n",
    "downtown = toronto_final[toronto_final['Borough'] == \"Downtown Toronto\"].reset_index(drop=True)\n",
    "downtown.head()"
   ]
  },
  {
   "cell_type": "code",
   "execution_count": 19,
   "metadata": {},
   "outputs": [
    {
     "data": {
      "text/plain": [
       "(19, 5)"
      ]
     },
     "execution_count": 19,
     "metadata": {},
     "output_type": "execute_result"
    }
   ],
   "source": [
    "downtown.shape"
   ]
  },
  {
   "cell_type": "code",
   "execution_count": 20,
   "metadata": {},
   "outputs": [
    {
     "data": {
      "text/plain": [
       "[43.65011000000004, -79.38289999999995]"
      ]
     },
     "execution_count": 20,
     "metadata": {},
     "output_type": "execute_result"
    }
   ],
   "source": [
    "# get geocoordenates from Downtown Toronto\n",
    "url = 'https://maps.googleapis.com/maps/api/geocode/json'\n",
    "g = geocoder.arcgis('Downtown Toronto, CA')\n",
    "g.latlng"
   ]
  },
  {
   "cell_type": "code",
   "execution_count": 21,
   "metadata": {},
   "outputs": [
    {
     "data": {
      "text/html": [
       "<div style=\"width:100%;\"><div style=\"position:relative;width:100%;height:0;padding-bottom:60%;\"><iframe src=\"data:text/html;charset=utf-8;base64,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\" style=\"position:absolute;width:100%;height:100%;left:0;top:0;border:none !important;\" allowfullscreen webkitallowfullscreen mozallowfullscreen></iframe></div></div>"
      ],
      "text/plain": [
       "<folium.folium.Map at 0x7f474e1fe748>"
      ]
     },
     "execution_count": 21,
     "metadata": {},
     "output_type": "execute_result"
    }
   ],
   "source": [
    "# create Downtown Toronto map\n",
    "downtownmap = folium.Map(location=g.latlng, zoom_start=13)\n",
    "downtownmap"
   ]
  },
  {
   "cell_type": "code",
   "execution_count": 22,
   "metadata": {},
   "outputs": [
    {
     "data": {
      "text/html": [
       "<div style=\"width:100%;\"><div style=\"position:relative;width:100%;height:0;padding-bottom:60%;\"><iframe src=\"data:text/html;charset=utf-8;base64,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\" style=\"position:absolute;width:100%;height:100%;left:0;top:0;border:none !important;\" allowfullscreen webkitallowfullscreen mozallowfullscreen></iframe></div></div>"
      ],
      "text/plain": [
       "<folium.folium.Map at 0x7f474e1fe748>"
      ]
     },
     "execution_count": 22,
     "metadata": {},
     "output_type": "execute_result"
    }
   ],
   "source": [
    "# add markers for each neighborhood on Downtown Toronto\n",
    "\n",
    "for lat, lng, label in zip(downtown['Latitude'],downtown['Longitude'], downtown['Neighborhood']):\n",
    "    label = folium.Popup(label, parse_html=True)\n",
    "    folium.CircleMarker(\n",
    "    [lat, lng],\n",
    "    radius=5,\n",
    "    popup=label,\n",
    "    color='red',\n",
    "    fill=True,\n",
    "    fill_color='#3186cc',\n",
    "    fill_opacity=0.7,\n",
    "    parse_html=False).add_to(downtownmap)\n",
    "\n",
    "downtownmap"
   ]
  },
  {
   "cell_type": "markdown",
   "metadata": {},
   "source": [
    "Getting Foursquare data about Toronto Neighborhoods:"
   ]
  },
  {
   "cell_type": "code",
   "execution_count": 23,
   "metadata": {},
   "outputs": [],
   "source": [
    "#lembrar de apagar antes de postar\n",
    "CLIENT_ID =  # your Foursquare ID\n",
    "CLIENT_SECRET = # your Foursquare Secret\n",
    "VERSION = # Foursquare API version"
   ]
  },
  {
   "cell_type": "code",
   "execution_count": 24,
   "metadata": {},
   "outputs": [],
   "source": [
    "# create a function that retrieve venues for each neighborhood\n",
    "def getNearbyVenues(names, latitudes, longitudes, radius=500, LIMIT=100):\n",
    "    \n",
    "    venues_list=[]\n",
    "    \n",
    "    for name, lat, lng in zip(names, latitudes, longitudes):\n",
    "        print(name)\n",
    "    \n",
    "        # create the API request URL\n",
    "        url = 'https://api.foursquare.com/v2/venues/explore?&client_id={}&client_secret={}&v={}&ll={},{}&radius={}&limit={}'.format(\n",
    "            CLIENT_ID,\n",
    "            CLIENT_SECRET,\n",
    "            VERSION,\n",
    "            lat,\n",
    "            lng,\n",
    "            radius,\n",
    "            LIMIT)\n",
    "\n",
    "        # make the GET request\n",
    "        results = requests.get(url).json()[\"response\"]['groups'][0]['items']\n",
    "        \n",
    "        # return only relevant information for each nearby venue\n",
    "        venues_list.append([(\n",
    "            name,\n",
    "            lat,\n",
    "            lng,\n",
    "            v['venue']['name'],\n",
    "            v['venue']['location']['lat'],\n",
    "            v['venue']['location']['lng'],\n",
    "            v['venue']['categories'][0]['name']) for v in results])\n",
    "    \n",
    "    nearby_venues = pd.DataFrame([item for venue_list in venues_list for item in venue_list])\n",
    "    nearby_venues.columns = ['Neighborhood',\n",
    "            'Neighborhood Latitude',\n",
    "            'Neighborhood Longitude',\n",
    "            'Venue',\n",
    "            'Venue Latitude',\n",
    "            'Venue Longitude',\n",
    "            'Venue Category']\n",
    "    \n",
    "    return(nearby_venues)"
   ]
  },
  {
   "cell_type": "code",
   "execution_count": 25,
   "metadata": {},
   "outputs": [
    {
     "name": "stdout",
     "output_type": "stream",
     "text": [
      "Rosedale\n",
      "Cabbagetown, St. James Town\n",
      "Church and Wellesley\n",
      "Harbourfront\n",
      "Ryerson, Garden District\n",
      "St. James Town\n",
      "Berczy Park\n",
      "Central Bay Street\n",
      "Adelaide, King, Richmond\n",
      "Harbourfront East, Toronto Islands, Union Station\n",
      "Design Exchange, Toronto Dominion Centre\n",
      "Commerce Court, Victoria Hotel\n",
      "Harbord, University of Toronto\n",
      "Chinatown, Grange Park, Kensington Market\n",
      "CN Tower, Bathurst Quay, Island airport, Harbourfront West, King and Spadina, Railway Lands, South Niagara\n",
      "Stn A PO Boxes 25 The Esplanade\n",
      "First Canadian Place, Underground city\n",
      "Christie\n",
      "Queen's Park\n"
     ]
    }
   ],
   "source": [
    "# apply the function into data\n",
    "downtown_venues = getNearbyVenues(names=downtown['Neighborhood'], latitudes=downtown['Latitude'], longitudes=downtown['Longitude'])"
   ]
  },
  {
   "cell_type": "code",
   "execution_count": 26,
   "metadata": {
    "scrolled": true
   },
   "outputs": [
    {
     "name": "stdout",
     "output_type": "stream",
     "text": [
      "(1312, 7)\n"
     ]
    },
    {
     "data": {
      "text/html": [
       "<div>\n",
       "<style scoped>\n",
       "    .dataframe tbody tr th:only-of-type {\n",
       "        vertical-align: middle;\n",
       "    }\n",
       "\n",
       "    .dataframe tbody tr th {\n",
       "        vertical-align: top;\n",
       "    }\n",
       "\n",
       "    .dataframe thead th {\n",
       "        text-align: right;\n",
       "    }\n",
       "</style>\n",
       "<table border=\"1\" class=\"dataframe\">\n",
       "  <thead>\n",
       "    <tr style=\"text-align: right;\">\n",
       "      <th></th>\n",
       "      <th>Neighborhood</th>\n",
       "      <th>Neighborhood Latitude</th>\n",
       "      <th>Neighborhood Longitude</th>\n",
       "      <th>Venue</th>\n",
       "      <th>Venue Latitude</th>\n",
       "      <th>Venue Longitude</th>\n",
       "      <th>Venue Category</th>\n",
       "    </tr>\n",
       "  </thead>\n",
       "  <tbody>\n",
       "    <tr>\n",
       "      <th>0</th>\n",
       "      <td>Rosedale</td>\n",
       "      <td>43.679563</td>\n",
       "      <td>-79.377529</td>\n",
       "      <td>Rosedale Park</td>\n",
       "      <td>43.682328</td>\n",
       "      <td>-79.378934</td>\n",
       "      <td>Playground</td>\n",
       "    </tr>\n",
       "    <tr>\n",
       "      <th>1</th>\n",
       "      <td>Rosedale</td>\n",
       "      <td>43.679563</td>\n",
       "      <td>-79.377529</td>\n",
       "      <td>Whitney Park</td>\n",
       "      <td>43.682036</td>\n",
       "      <td>-79.373788</td>\n",
       "      <td>Park</td>\n",
       "    </tr>\n",
       "    <tr>\n",
       "      <th>2</th>\n",
       "      <td>Rosedale</td>\n",
       "      <td>43.679563</td>\n",
       "      <td>-79.377529</td>\n",
       "      <td>Alex Murray Parkette</td>\n",
       "      <td>43.678300</td>\n",
       "      <td>-79.382773</td>\n",
       "      <td>Park</td>\n",
       "    </tr>\n",
       "    <tr>\n",
       "      <th>3</th>\n",
       "      <td>Rosedale</td>\n",
       "      <td>43.679563</td>\n",
       "      <td>-79.377529</td>\n",
       "      <td>Milkman's Lane</td>\n",
       "      <td>43.676352</td>\n",
       "      <td>-79.373842</td>\n",
       "      <td>Trail</td>\n",
       "    </tr>\n",
       "    <tr>\n",
       "      <th>4</th>\n",
       "      <td>Cabbagetown, St. James Town</td>\n",
       "      <td>43.667967</td>\n",
       "      <td>-79.367675</td>\n",
       "      <td>Cranberries</td>\n",
       "      <td>43.667843</td>\n",
       "      <td>-79.369407</td>\n",
       "      <td>Diner</td>\n",
       "    </tr>\n",
       "    <tr>\n",
       "      <th>5</th>\n",
       "      <td>Cabbagetown, St. James Town</td>\n",
       "      <td>43.667967</td>\n",
       "      <td>-79.367675</td>\n",
       "      <td>F'Amelia</td>\n",
       "      <td>43.667536</td>\n",
       "      <td>-79.368613</td>\n",
       "      <td>Italian Restaurant</td>\n",
       "    </tr>\n",
       "    <tr>\n",
       "      <th>6</th>\n",
       "      <td>Cabbagetown, St. James Town</td>\n",
       "      <td>43.667967</td>\n",
       "      <td>-79.367675</td>\n",
       "      <td>Kingyo Toronto</td>\n",
       "      <td>43.665895</td>\n",
       "      <td>-79.368415</td>\n",
       "      <td>Japanese Restaurant</td>\n",
       "    </tr>\n",
       "    <tr>\n",
       "      <th>7</th>\n",
       "      <td>Cabbagetown, St. James Town</td>\n",
       "      <td>43.667967</td>\n",
       "      <td>-79.367675</td>\n",
       "      <td>Butter Chicken Factory</td>\n",
       "      <td>43.667072</td>\n",
       "      <td>-79.369184</td>\n",
       "      <td>Indian Restaurant</td>\n",
       "    </tr>\n",
       "    <tr>\n",
       "      <th>8</th>\n",
       "      <td>Cabbagetown, St. James Town</td>\n",
       "      <td>43.667967</td>\n",
       "      <td>-79.367675</td>\n",
       "      <td>Murgatroid</td>\n",
       "      <td>43.667381</td>\n",
       "      <td>-79.369311</td>\n",
       "      <td>Restaurant</td>\n",
       "    </tr>\n",
       "    <tr>\n",
       "      <th>9</th>\n",
       "      <td>Cabbagetown, St. James Town</td>\n",
       "      <td>43.667967</td>\n",
       "      <td>-79.367675</td>\n",
       "      <td>Merryberry Cafe + Bistro</td>\n",
       "      <td>43.666630</td>\n",
       "      <td>-79.368792</td>\n",
       "      <td>Café</td>\n",
       "    </tr>\n",
       "  </tbody>\n",
       "</table>\n",
       "</div>"
      ],
      "text/plain": [
       "                  Neighborhood  Neighborhood Latitude  Neighborhood Longitude  \\\n",
       "0                     Rosedale              43.679563              -79.377529   \n",
       "1                     Rosedale              43.679563              -79.377529   \n",
       "2                     Rosedale              43.679563              -79.377529   \n",
       "3                     Rosedale              43.679563              -79.377529   \n",
       "4  Cabbagetown, St. James Town              43.667967              -79.367675   \n",
       "5  Cabbagetown, St. James Town              43.667967              -79.367675   \n",
       "6  Cabbagetown, St. James Town              43.667967              -79.367675   \n",
       "7  Cabbagetown, St. James Town              43.667967              -79.367675   \n",
       "8  Cabbagetown, St. James Town              43.667967              -79.367675   \n",
       "9  Cabbagetown, St. James Town              43.667967              -79.367675   \n",
       "\n",
       "                      Venue  Venue Latitude  Venue Longitude  \\\n",
       "0             Rosedale Park       43.682328       -79.378934   \n",
       "1              Whitney Park       43.682036       -79.373788   \n",
       "2      Alex Murray Parkette       43.678300       -79.382773   \n",
       "3            Milkman's Lane       43.676352       -79.373842   \n",
       "4               Cranberries       43.667843       -79.369407   \n",
       "5                  F'Amelia       43.667536       -79.368613   \n",
       "6            Kingyo Toronto       43.665895       -79.368415   \n",
       "7    Butter Chicken Factory       43.667072       -79.369184   \n",
       "8                Murgatroid       43.667381       -79.369311   \n",
       "9  Merryberry Cafe + Bistro       43.666630       -79.368792   \n",
       "\n",
       "        Venue Category  \n",
       "0           Playground  \n",
       "1                 Park  \n",
       "2                 Park  \n",
       "3                Trail  \n",
       "4                Diner  \n",
       "5   Italian Restaurant  \n",
       "6  Japanese Restaurant  \n",
       "7    Indian Restaurant  \n",
       "8           Restaurant  \n",
       "9                 Café  "
      ]
     },
     "execution_count": 26,
     "metadata": {},
     "output_type": "execute_result"
    }
   ],
   "source": [
    "print(downtown_venues.shape)\n",
    "downtown_venues.head(10)"
   ]
  },
  {
   "cell_type": "code",
   "execution_count": 27,
   "metadata": {},
   "outputs": [
    {
     "name": "stdout",
     "output_type": "stream",
     "text": [
      "205\n"
     ]
    }
   ],
   "source": [
    "# check how many venues categories were retrieved\n",
    "print(len(downtown_venues['Venue Category'].unique()))"
   ]
  },
  {
   "cell_type": "code",
   "execution_count": 28,
   "metadata": {},
   "outputs": [],
   "source": [
    "#one hot encoding\n",
    "downtown_onehot = pd.get_dummies(downtown_venues[['Venue Category']],prefix=\"\", prefix_sep=\"\")"
   ]
  },
  {
   "cell_type": "code",
   "execution_count": 29,
   "metadata": {
    "scrolled": false
   },
   "outputs": [
    {
     "data": {
      "text/plain": [
       "array(['Afghan Restaurant', 'Airport', 'Airport Food Court',\n",
       "       'Airport Gate', 'Airport Lounge', 'Airport Service',\n",
       "       'Airport Terminal', 'American Restaurant', 'Antique Shop',\n",
       "       'Aquarium', 'Art Gallery', 'Arts & Crafts Store',\n",
       "       'Asian Restaurant', 'Athletics & Sports', 'BBQ Joint',\n",
       "       'Baby Store', 'Bagel Shop', 'Bakery', 'Bank', 'Bar',\n",
       "       'Baseball Stadium', 'Basketball Stadium', 'Beach',\n",
       "       'Bed & Breakfast', 'Beer Bar', 'Beer Store', 'Belgian Restaurant',\n",
       "       'Bistro', 'Boat or Ferry', 'Bookstore', 'Boutique',\n",
       "       'Brazilian Restaurant', 'Breakfast Spot', 'Brewery',\n",
       "       'Bubble Tea Shop', 'Building', 'Burger Joint', 'Burrito Place',\n",
       "       'Butcher', 'Café', 'Camera Store', 'Candy Store',\n",
       "       'Caribbean Restaurant', 'Cheese Shop', 'Chinese Restaurant',\n",
       "       'Chocolate Shop', 'Church', 'Clothing Store', 'Cocktail Bar',\n",
       "       'Coffee Shop', 'College Arts Building', 'College Auditorium',\n",
       "       'College Gym', 'College Rec Center', 'Colombian Restaurant',\n",
       "       'Comfort Food Restaurant', 'Comic Shop', 'Concert Hall',\n",
       "       'Cosmetics Shop', 'Creperie', 'Dance Studio', 'Deli / Bodega',\n",
       "       'Department Store', 'Dessert Shop', 'Dim Sum Restaurant', 'Diner',\n",
       "       'Discount Store', 'Dog Run', 'Doner Restaurant', 'Donut Shop',\n",
       "       'Dumpling Restaurant', 'Eastern European Restaurant',\n",
       "       'Electronics Store', 'Ethiopian Restaurant', 'Event Space',\n",
       "       'Falafel Restaurant', 'Farmers Market', 'Fast Food Restaurant',\n",
       "       'Festival', 'Filipino Restaurant', 'Fish Market',\n",
       "       'Food & Drink Shop', 'Food Court', 'Food Truck', 'Fountain',\n",
       "       'French Restaurant', 'Fried Chicken Joint',\n",
       "       'Furniture / Home Store', 'Gaming Cafe', 'Gas Station',\n",
       "       'Gastropub', 'Gay Bar', 'General Entertainment', 'General Travel',\n",
       "       'German Restaurant', 'Gift Shop', 'Gluten-free Restaurant',\n",
       "       'Gourmet Shop', 'Greek Restaurant', 'Grocery Store', 'Gym',\n",
       "       'Gym / Fitness Center', 'Harbor / Marina',\n",
       "       'Health & Beauty Service', 'Health Food Store', 'Historic Site',\n",
       "       'History Museum', 'Hobby Shop', 'Hookah Bar', 'Hospital', 'Hostel',\n",
       "       'Hotel', 'Hotel Bar', 'Hotpot Restaurant', 'IT Services',\n",
       "       'Ice Cream Shop', 'Indian Restaurant', 'Intersection',\n",
       "       'Italian Restaurant', 'Japanese Restaurant', 'Jazz Club',\n",
       "       'Jewelry Store', 'Juice Bar', 'Korean Restaurant', 'Lake',\n",
       "       'Latin American Restaurant', 'Lingerie Store', 'Liquor Store',\n",
       "       'Lounge', 'Market', 'Mediterranean Restaurant', \"Men's Store\",\n",
       "       'Mexican Restaurant', 'Middle Eastern Restaurant',\n",
       "       'Miscellaneous Shop', 'Modern European Restaurant',\n",
       "       'Molecular Gastronomy Restaurant', 'Monument / Landmark',\n",
       "       'Movie Theater', 'Museum', 'Music Venue', 'Neighborhood',\n",
       "       'New American Restaurant', 'Nightclub', 'Noodle House', 'Office',\n",
       "       'Opera House', 'Optical Shop', 'Organic Grocery',\n",
       "       'Other Great Outdoors', 'Park', 'Performing Arts Venue',\n",
       "       'Pet Store', 'Pharmacy', 'Pizza Place', 'Plane', 'Playground',\n",
       "       'Plaza', 'Poke Place', 'Portuguese Restaurant', 'Poutine Place',\n",
       "       'Pub', 'Ramen Restaurant', 'Record Shop', 'Rental Car Location',\n",
       "       'Restaurant', 'Roof Deck', 'Sake Bar', 'Salad Place',\n",
       "       'Salon / Barbershop', 'Sandwich Place', 'Scenic Lookout',\n",
       "       'Sculpture Garden', 'Seafood Restaurant', 'Shoe Store',\n",
       "       'Shopping Mall', 'Skating Rink', 'Smoke Shop', 'Snack Place',\n",
       "       'Spa', 'Speakeasy', 'Sporting Goods Shop', 'Sports Bar',\n",
       "       'Steakhouse', 'Strip Club', 'Supermarket', 'Sushi Restaurant',\n",
       "       'Taco Place', 'Tailor Shop', 'Taiwanese Restaurant',\n",
       "       'Tanning Salon', 'Tea Room', 'Thai Restaurant', 'Theater',\n",
       "       'Theme Restaurant', 'Toy / Game Store', 'Trail', 'Train Station',\n",
       "       'Vegetarian / Vegan Restaurant', 'Video Game Store',\n",
       "       'Vietnamese Restaurant', 'Wine Bar', 'Wine Shop', \"Women's Store\",\n",
       "       'Yoga Studio'], dtype=object)"
      ]
     },
     "execution_count": 29,
     "metadata": {},
     "output_type": "execute_result"
    }
   ],
   "source": [
    "# check the columns names\n",
    "downtown_onehot.columns.values"
   ]
  },
  {
   "cell_type": "markdown",
   "metadata": {},
   "source": [
    "As you can see, there is a category called 'Neighborhhod' in one hot dataframe. I've treated them as a noise, and after checking how many venues were part of this category (only two rows), I've drop of the entirely column."
   ]
  },
  {
   "cell_type": "code",
   "execution_count": 30,
   "metadata": {},
   "outputs": [
    {
     "data": {
      "text/html": [
       "<div>\n",
       "<style scoped>\n",
       "    .dataframe tbody tr th:only-of-type {\n",
       "        vertical-align: middle;\n",
       "    }\n",
       "\n",
       "    .dataframe tbody tr th {\n",
       "        vertical-align: top;\n",
       "    }\n",
       "\n",
       "    .dataframe thead th {\n",
       "        text-align: right;\n",
       "    }\n",
       "</style>\n",
       "<table border=\"1\" class=\"dataframe\">\n",
       "  <thead>\n",
       "    <tr style=\"text-align: right;\">\n",
       "      <th></th>\n",
       "      <th>Afghan Restaurant</th>\n",
       "      <th>Airport</th>\n",
       "      <th>Airport Food Court</th>\n",
       "      <th>Airport Gate</th>\n",
       "      <th>Airport Lounge</th>\n",
       "      <th>Airport Service</th>\n",
       "      <th>Airport Terminal</th>\n",
       "      <th>American Restaurant</th>\n",
       "      <th>Antique Shop</th>\n",
       "      <th>Aquarium</th>\n",
       "      <th>...</th>\n",
       "      <th>Toy / Game Store</th>\n",
       "      <th>Trail</th>\n",
       "      <th>Train Station</th>\n",
       "      <th>Vegetarian / Vegan Restaurant</th>\n",
       "      <th>Video Game Store</th>\n",
       "      <th>Vietnamese Restaurant</th>\n",
       "      <th>Wine Bar</th>\n",
       "      <th>Wine Shop</th>\n",
       "      <th>Women's Store</th>\n",
       "      <th>Yoga Studio</th>\n",
       "    </tr>\n",
       "  </thead>\n",
       "  <tbody>\n",
       "    <tr>\n",
       "      <th>536</th>\n",
       "      <td>0</td>\n",
       "      <td>0</td>\n",
       "      <td>0</td>\n",
       "      <td>0</td>\n",
       "      <td>0</td>\n",
       "      <td>0</td>\n",
       "      <td>0</td>\n",
       "      <td>0</td>\n",
       "      <td>0</td>\n",
       "      <td>0</td>\n",
       "      <td>...</td>\n",
       "      <td>0</td>\n",
       "      <td>0</td>\n",
       "      <td>0</td>\n",
       "      <td>0</td>\n",
       "      <td>0</td>\n",
       "      <td>0</td>\n",
       "      <td>0</td>\n",
       "      <td>0</td>\n",
       "      <td>0</td>\n",
       "      <td>0</td>\n",
       "    </tr>\n",
       "    <tr>\n",
       "      <th>622</th>\n",
       "      <td>0</td>\n",
       "      <td>0</td>\n",
       "      <td>0</td>\n",
       "      <td>0</td>\n",
       "      <td>0</td>\n",
       "      <td>0</td>\n",
       "      <td>0</td>\n",
       "      <td>0</td>\n",
       "      <td>0</td>\n",
       "      <td>0</td>\n",
       "      <td>...</td>\n",
       "      <td>0</td>\n",
       "      <td>0</td>\n",
       "      <td>0</td>\n",
       "      <td>0</td>\n",
       "      <td>0</td>\n",
       "      <td>0</td>\n",
       "      <td>0</td>\n",
       "      <td>0</td>\n",
       "      <td>0</td>\n",
       "      <td>0</td>\n",
       "    </tr>\n",
       "  </tbody>\n",
       "</table>\n",
       "<p>2 rows × 205 columns</p>\n",
       "</div>"
      ],
      "text/plain": [
       "     Afghan Restaurant  Airport  Airport Food Court  Airport Gate  \\\n",
       "536                  0        0                   0             0   \n",
       "622                  0        0                   0             0   \n",
       "\n",
       "     Airport Lounge  Airport Service  Airport Terminal  American Restaurant  \\\n",
       "536               0                0                 0                    0   \n",
       "622               0                0                 0                    0   \n",
       "\n",
       "     Antique Shop  Aquarium  ...  Toy / Game Store  Trail  Train Station  \\\n",
       "536             0         0  ...                 0      0              0   \n",
       "622             0         0  ...                 0      0              0   \n",
       "\n",
       "     Vegetarian / Vegan Restaurant  Video Game Store  Vietnamese Restaurant  \\\n",
       "536                              0                 0                      0   \n",
       "622                              0                 0                      0   \n",
       "\n",
       "     Wine Bar  Wine Shop  Women's Store  Yoga Studio  \n",
       "536         0          0              0            0  \n",
       "622         0          0              0            0  \n",
       "\n",
       "[2 rows x 205 columns]"
      ]
     },
     "execution_count": 30,
     "metadata": {},
     "output_type": "execute_result"
    }
   ],
   "source": [
    "# check how many venues are in this category\n",
    "downtown_onehot.loc[downtown_onehot['Neighborhood'] == 1]"
   ]
  },
  {
   "cell_type": "code",
   "execution_count": 31,
   "metadata": {},
   "outputs": [],
   "source": [
    "# drop of this column from one hot dataframe\n",
    "downtown_onehot.drop(['Neighborhood'], axis=1, inplace=True)"
   ]
  },
  {
   "cell_type": "code",
   "execution_count": 32,
   "metadata": {},
   "outputs": [
    {
     "data": {
      "text/plain": [
       "(1312, 204)"
      ]
     },
     "execution_count": 32,
     "metadata": {},
     "output_type": "execute_result"
    }
   ],
   "source": [
    "downtown_onehot.shape"
   ]
  },
  {
   "cell_type": "code",
   "execution_count": 33,
   "metadata": {},
   "outputs": [
    {
     "data": {
      "text/html": [
       "<div>\n",
       "<style scoped>\n",
       "    .dataframe tbody tr th:only-of-type {\n",
       "        vertical-align: middle;\n",
       "    }\n",
       "\n",
       "    .dataframe tbody tr th {\n",
       "        vertical-align: top;\n",
       "    }\n",
       "\n",
       "    .dataframe thead th {\n",
       "        text-align: right;\n",
       "    }\n",
       "</style>\n",
       "<table border=\"1\" class=\"dataframe\">\n",
       "  <thead>\n",
       "    <tr style=\"text-align: right;\">\n",
       "      <th></th>\n",
       "      <th>Neighborhood</th>\n",
       "      <th>Afghan Restaurant</th>\n",
       "      <th>Airport</th>\n",
       "      <th>Airport Food Court</th>\n",
       "      <th>Airport Gate</th>\n",
       "      <th>Airport Lounge</th>\n",
       "      <th>Airport Service</th>\n",
       "      <th>Airport Terminal</th>\n",
       "      <th>American Restaurant</th>\n",
       "      <th>Antique Shop</th>\n",
       "      <th>...</th>\n",
       "      <th>Toy / Game Store</th>\n",
       "      <th>Trail</th>\n",
       "      <th>Train Station</th>\n",
       "      <th>Vegetarian / Vegan Restaurant</th>\n",
       "      <th>Video Game Store</th>\n",
       "      <th>Vietnamese Restaurant</th>\n",
       "      <th>Wine Bar</th>\n",
       "      <th>Wine Shop</th>\n",
       "      <th>Women's Store</th>\n",
       "      <th>Yoga Studio</th>\n",
       "    </tr>\n",
       "  </thead>\n",
       "  <tbody>\n",
       "    <tr>\n",
       "      <th>0</th>\n",
       "      <td>Rosedale</td>\n",
       "      <td>0</td>\n",
       "      <td>0</td>\n",
       "      <td>0</td>\n",
       "      <td>0</td>\n",
       "      <td>0</td>\n",
       "      <td>0</td>\n",
       "      <td>0</td>\n",
       "      <td>0</td>\n",
       "      <td>0</td>\n",
       "      <td>...</td>\n",
       "      <td>0</td>\n",
       "      <td>0</td>\n",
       "      <td>0</td>\n",
       "      <td>0</td>\n",
       "      <td>0</td>\n",
       "      <td>0</td>\n",
       "      <td>0</td>\n",
       "      <td>0</td>\n",
       "      <td>0</td>\n",
       "      <td>0</td>\n",
       "    </tr>\n",
       "    <tr>\n",
       "      <th>1</th>\n",
       "      <td>Rosedale</td>\n",
       "      <td>0</td>\n",
       "      <td>0</td>\n",
       "      <td>0</td>\n",
       "      <td>0</td>\n",
       "      <td>0</td>\n",
       "      <td>0</td>\n",
       "      <td>0</td>\n",
       "      <td>0</td>\n",
       "      <td>0</td>\n",
       "      <td>...</td>\n",
       "      <td>0</td>\n",
       "      <td>0</td>\n",
       "      <td>0</td>\n",
       "      <td>0</td>\n",
       "      <td>0</td>\n",
       "      <td>0</td>\n",
       "      <td>0</td>\n",
       "      <td>0</td>\n",
       "      <td>0</td>\n",
       "      <td>0</td>\n",
       "    </tr>\n",
       "    <tr>\n",
       "      <th>2</th>\n",
       "      <td>Rosedale</td>\n",
       "      <td>0</td>\n",
       "      <td>0</td>\n",
       "      <td>0</td>\n",
       "      <td>0</td>\n",
       "      <td>0</td>\n",
       "      <td>0</td>\n",
       "      <td>0</td>\n",
       "      <td>0</td>\n",
       "      <td>0</td>\n",
       "      <td>...</td>\n",
       "      <td>0</td>\n",
       "      <td>0</td>\n",
       "      <td>0</td>\n",
       "      <td>0</td>\n",
       "      <td>0</td>\n",
       "      <td>0</td>\n",
       "      <td>0</td>\n",
       "      <td>0</td>\n",
       "      <td>0</td>\n",
       "      <td>0</td>\n",
       "    </tr>\n",
       "    <tr>\n",
       "      <th>3</th>\n",
       "      <td>Rosedale</td>\n",
       "      <td>0</td>\n",
       "      <td>0</td>\n",
       "      <td>0</td>\n",
       "      <td>0</td>\n",
       "      <td>0</td>\n",
       "      <td>0</td>\n",
       "      <td>0</td>\n",
       "      <td>0</td>\n",
       "      <td>0</td>\n",
       "      <td>...</td>\n",
       "      <td>0</td>\n",
       "      <td>1</td>\n",
       "      <td>0</td>\n",
       "      <td>0</td>\n",
       "      <td>0</td>\n",
       "      <td>0</td>\n",
       "      <td>0</td>\n",
       "      <td>0</td>\n",
       "      <td>0</td>\n",
       "      <td>0</td>\n",
       "    </tr>\n",
       "    <tr>\n",
       "      <th>4</th>\n",
       "      <td>Cabbagetown, St. James Town</td>\n",
       "      <td>0</td>\n",
       "      <td>0</td>\n",
       "      <td>0</td>\n",
       "      <td>0</td>\n",
       "      <td>0</td>\n",
       "      <td>0</td>\n",
       "      <td>0</td>\n",
       "      <td>0</td>\n",
       "      <td>0</td>\n",
       "      <td>...</td>\n",
       "      <td>0</td>\n",
       "      <td>0</td>\n",
       "      <td>0</td>\n",
       "      <td>0</td>\n",
       "      <td>0</td>\n",
       "      <td>0</td>\n",
       "      <td>0</td>\n",
       "      <td>0</td>\n",
       "      <td>0</td>\n",
       "      <td>0</td>\n",
       "    </tr>\n",
       "  </tbody>\n",
       "</table>\n",
       "<p>5 rows × 205 columns</p>\n",
       "</div>"
      ],
      "text/plain": [
       "                  Neighborhood  Afghan Restaurant  Airport  \\\n",
       "0                     Rosedale                  0        0   \n",
       "1                     Rosedale                  0        0   \n",
       "2                     Rosedale                  0        0   \n",
       "3                     Rosedale                  0        0   \n",
       "4  Cabbagetown, St. James Town                  0        0   \n",
       "\n",
       "   Airport Food Court  Airport Gate  Airport Lounge  Airport Service  \\\n",
       "0                   0             0               0                0   \n",
       "1                   0             0               0                0   \n",
       "2                   0             0               0                0   \n",
       "3                   0             0               0                0   \n",
       "4                   0             0               0                0   \n",
       "\n",
       "   Airport Terminal  American Restaurant  Antique Shop  ...  Toy / Game Store  \\\n",
       "0                 0                    0             0  ...                 0   \n",
       "1                 0                    0             0  ...                 0   \n",
       "2                 0                    0             0  ...                 0   \n",
       "3                 0                    0             0  ...                 0   \n",
       "4                 0                    0             0  ...                 0   \n",
       "\n",
       "   Trail  Train Station  Vegetarian / Vegan Restaurant  Video Game Store  \\\n",
       "0      0              0                              0                 0   \n",
       "1      0              0                              0                 0   \n",
       "2      0              0                              0                 0   \n",
       "3      1              0                              0                 0   \n",
       "4      0              0                              0                 0   \n",
       "\n",
       "   Vietnamese Restaurant  Wine Bar  Wine Shop  Women's Store  Yoga Studio  \n",
       "0                      0         0          0              0            0  \n",
       "1                      0         0          0              0            0  \n",
       "2                      0         0          0              0            0  \n",
       "3                      0         0          0              0            0  \n",
       "4                      0         0          0              0            0  \n",
       "\n",
       "[5 rows x 205 columns]"
      ]
     },
     "execution_count": 33,
     "metadata": {},
     "output_type": "execute_result"
    }
   ],
   "source": [
    "# add neighborhood column back to dataframe. \n",
    "downtown_onehot['Neighborhood'] = downtown_venues['Neighborhood']\n",
    "\n",
    "# move neighborhoods column to the first column\n",
    "fixed_columns = [downtown_onehot.columns[-1]] + list(downtown_onehot.columns[:-1])\n",
    "\n",
    "downtown_onehot = downtown_onehot[fixed_columns]\n",
    "downtown_onehot.head()"
   ]
  },
  {
   "cell_type": "code",
   "execution_count": 34,
   "metadata": {},
   "outputs": [
    {
     "data": {
      "text/plain": [
       "(1312, 205)"
      ]
     },
     "execution_count": 34,
     "metadata": {},
     "output_type": "execute_result"
    }
   ],
   "source": [
    "downtown_onehot.shape"
   ]
  },
  {
   "cell_type": "code",
   "execution_count": 35,
   "metadata": {},
   "outputs": [
    {
     "data": {
      "text/html": [
       "<div>\n",
       "<style scoped>\n",
       "    .dataframe tbody tr th:only-of-type {\n",
       "        vertical-align: middle;\n",
       "    }\n",
       "\n",
       "    .dataframe tbody tr th {\n",
       "        vertical-align: top;\n",
       "    }\n",
       "\n",
       "    .dataframe thead th {\n",
       "        text-align: right;\n",
       "    }\n",
       "</style>\n",
       "<table border=\"1\" class=\"dataframe\">\n",
       "  <thead>\n",
       "    <tr style=\"text-align: right;\">\n",
       "      <th></th>\n",
       "      <th>Neighborhood</th>\n",
       "      <th>Afghan Restaurant</th>\n",
       "      <th>Airport</th>\n",
       "      <th>Airport Food Court</th>\n",
       "      <th>Airport Gate</th>\n",
       "      <th>Airport Lounge</th>\n",
       "      <th>Airport Service</th>\n",
       "      <th>Airport Terminal</th>\n",
       "      <th>American Restaurant</th>\n",
       "      <th>Antique Shop</th>\n",
       "      <th>...</th>\n",
       "      <th>Toy / Game Store</th>\n",
       "      <th>Trail</th>\n",
       "      <th>Train Station</th>\n",
       "      <th>Vegetarian / Vegan Restaurant</th>\n",
       "      <th>Video Game Store</th>\n",
       "      <th>Vietnamese Restaurant</th>\n",
       "      <th>Wine Bar</th>\n",
       "      <th>Wine Shop</th>\n",
       "      <th>Women's Store</th>\n",
       "      <th>Yoga Studio</th>\n",
       "    </tr>\n",
       "  </thead>\n",
       "  <tbody>\n",
       "    <tr>\n",
       "      <th>0</th>\n",
       "      <td>Adelaide, King, Richmond</td>\n",
       "      <td>0.0</td>\n",
       "      <td>0.0000</td>\n",
       "      <td>0.0000</td>\n",
       "      <td>0.0000</td>\n",
       "      <td>0.000</td>\n",
       "      <td>0.000</td>\n",
       "      <td>0.000</td>\n",
       "      <td>0.020000</td>\n",
       "      <td>0.0</td>\n",
       "      <td>...</td>\n",
       "      <td>0.0</td>\n",
       "      <td>0.0</td>\n",
       "      <td>0.0</td>\n",
       "      <td>0.020000</td>\n",
       "      <td>0.0</td>\n",
       "      <td>0.0</td>\n",
       "      <td>0.000000</td>\n",
       "      <td>0.0</td>\n",
       "      <td>0.01</td>\n",
       "      <td>0.000000</td>\n",
       "    </tr>\n",
       "    <tr>\n",
       "      <th>1</th>\n",
       "      <td>Berczy Park</td>\n",
       "      <td>0.0</td>\n",
       "      <td>0.0000</td>\n",
       "      <td>0.0000</td>\n",
       "      <td>0.0000</td>\n",
       "      <td>0.000</td>\n",
       "      <td>0.000</td>\n",
       "      <td>0.000</td>\n",
       "      <td>0.000000</td>\n",
       "      <td>0.0</td>\n",
       "      <td>...</td>\n",
       "      <td>0.0</td>\n",
       "      <td>0.0</td>\n",
       "      <td>0.0</td>\n",
       "      <td>0.017241</td>\n",
       "      <td>0.0</td>\n",
       "      <td>0.0</td>\n",
       "      <td>0.000000</td>\n",
       "      <td>0.0</td>\n",
       "      <td>0.00</td>\n",
       "      <td>0.000000</td>\n",
       "    </tr>\n",
       "    <tr>\n",
       "      <th>2</th>\n",
       "      <td>CN Tower, Bathurst Quay, Island airport, Harbo...</td>\n",
       "      <td>0.0</td>\n",
       "      <td>0.0625</td>\n",
       "      <td>0.0625</td>\n",
       "      <td>0.0625</td>\n",
       "      <td>0.125</td>\n",
       "      <td>0.125</td>\n",
       "      <td>0.125</td>\n",
       "      <td>0.000000</td>\n",
       "      <td>0.0</td>\n",
       "      <td>...</td>\n",
       "      <td>0.0</td>\n",
       "      <td>0.0</td>\n",
       "      <td>0.0</td>\n",
       "      <td>0.000000</td>\n",
       "      <td>0.0</td>\n",
       "      <td>0.0</td>\n",
       "      <td>0.000000</td>\n",
       "      <td>0.0</td>\n",
       "      <td>0.00</td>\n",
       "      <td>0.000000</td>\n",
       "    </tr>\n",
       "    <tr>\n",
       "      <th>3</th>\n",
       "      <td>Cabbagetown, St. James Town</td>\n",
       "      <td>0.0</td>\n",
       "      <td>0.0000</td>\n",
       "      <td>0.0000</td>\n",
       "      <td>0.0000</td>\n",
       "      <td>0.000</td>\n",
       "      <td>0.000</td>\n",
       "      <td>0.000</td>\n",
       "      <td>0.022727</td>\n",
       "      <td>0.0</td>\n",
       "      <td>...</td>\n",
       "      <td>0.0</td>\n",
       "      <td>0.0</td>\n",
       "      <td>0.0</td>\n",
       "      <td>0.000000</td>\n",
       "      <td>0.0</td>\n",
       "      <td>0.0</td>\n",
       "      <td>0.000000</td>\n",
       "      <td>0.0</td>\n",
       "      <td>0.00</td>\n",
       "      <td>0.000000</td>\n",
       "    </tr>\n",
       "    <tr>\n",
       "      <th>4</th>\n",
       "      <td>Central Bay Street</td>\n",
       "      <td>0.0</td>\n",
       "      <td>0.0000</td>\n",
       "      <td>0.0000</td>\n",
       "      <td>0.0000</td>\n",
       "      <td>0.000</td>\n",
       "      <td>0.000</td>\n",
       "      <td>0.000</td>\n",
       "      <td>0.011905</td>\n",
       "      <td>0.0</td>\n",
       "      <td>...</td>\n",
       "      <td>0.0</td>\n",
       "      <td>0.0</td>\n",
       "      <td>0.0</td>\n",
       "      <td>0.011905</td>\n",
       "      <td>0.0</td>\n",
       "      <td>0.0</td>\n",
       "      <td>0.011905</td>\n",
       "      <td>0.0</td>\n",
       "      <td>0.00</td>\n",
       "      <td>0.011905</td>\n",
       "    </tr>\n",
       "  </tbody>\n",
       "</table>\n",
       "<p>5 rows × 205 columns</p>\n",
       "</div>"
      ],
      "text/plain": [
       "                                        Neighborhood  Afghan Restaurant  \\\n",
       "0                           Adelaide, King, Richmond                0.0   \n",
       "1                                        Berczy Park                0.0   \n",
       "2  CN Tower, Bathurst Quay, Island airport, Harbo...                0.0   \n",
       "3                        Cabbagetown, St. James Town                0.0   \n",
       "4                                 Central Bay Street                0.0   \n",
       "\n",
       "   Airport  Airport Food Court  Airport Gate  Airport Lounge  Airport Service  \\\n",
       "0   0.0000              0.0000        0.0000           0.000            0.000   \n",
       "1   0.0000              0.0000        0.0000           0.000            0.000   \n",
       "2   0.0625              0.0625        0.0625           0.125            0.125   \n",
       "3   0.0000              0.0000        0.0000           0.000            0.000   \n",
       "4   0.0000              0.0000        0.0000           0.000            0.000   \n",
       "\n",
       "   Airport Terminal  American Restaurant  Antique Shop  ...  Toy / Game Store  \\\n",
       "0             0.000             0.020000           0.0  ...               0.0   \n",
       "1             0.000             0.000000           0.0  ...               0.0   \n",
       "2             0.125             0.000000           0.0  ...               0.0   \n",
       "3             0.000             0.022727           0.0  ...               0.0   \n",
       "4             0.000             0.011905           0.0  ...               0.0   \n",
       "\n",
       "   Trail  Train Station  Vegetarian / Vegan Restaurant  Video Game Store  \\\n",
       "0    0.0            0.0                       0.020000               0.0   \n",
       "1    0.0            0.0                       0.017241               0.0   \n",
       "2    0.0            0.0                       0.000000               0.0   \n",
       "3    0.0            0.0                       0.000000               0.0   \n",
       "4    0.0            0.0                       0.011905               0.0   \n",
       "\n",
       "   Vietnamese Restaurant  Wine Bar  Wine Shop  Women's Store  Yoga Studio  \n",
       "0                    0.0  0.000000        0.0           0.01     0.000000  \n",
       "1                    0.0  0.000000        0.0           0.00     0.000000  \n",
       "2                    0.0  0.000000        0.0           0.00     0.000000  \n",
       "3                    0.0  0.000000        0.0           0.00     0.000000  \n",
       "4                    0.0  0.011905        0.0           0.00     0.011905  \n",
       "\n",
       "[5 rows x 205 columns]"
      ]
     },
     "execution_count": 35,
     "metadata": {},
     "output_type": "execute_result"
    }
   ],
   "source": [
    "# group rows by neighborhood and by taking the mean of the frequency of occurrence of each category\n",
    "downtown_final = downtown_onehot.groupby('Neighborhood').mean().reset_index()\n",
    "downtown_final.head()"
   ]
  },
  {
   "cell_type": "code",
   "execution_count": 36,
   "metadata": {},
   "outputs": [
    {
     "data": {
      "text/plain": [
       "(19, 205)"
      ]
     },
     "execution_count": 36,
     "metadata": {},
     "output_type": "execute_result"
    }
   ],
   "source": [
    "downtown_final.shape"
   ]
  },
  {
   "cell_type": "code",
   "execution_count": 37,
   "metadata": {},
   "outputs": [],
   "source": [
    "# write a function to sort the venues in descending order in order to get the most common ones bellow\n",
    "\n",
    "def return_most_common_venues(row, num_top_venues):\n",
    "    row_categories = row.iloc[1:]\n",
    "    row_categories_sorted = row_categories.sort_values(ascending=False)\n",
    "    return row_categories_sorted.index.values[0:num_top_venues]"
   ]
  },
  {
   "cell_type": "code",
   "execution_count": 38,
   "metadata": {
    "scrolled": true
   },
   "outputs": [
    {
     "data": {
      "text/html": [
       "<div>\n",
       "<style scoped>\n",
       "    .dataframe tbody tr th:only-of-type {\n",
       "        vertical-align: middle;\n",
       "    }\n",
       "\n",
       "    .dataframe tbody tr th {\n",
       "        vertical-align: top;\n",
       "    }\n",
       "\n",
       "    .dataframe thead th {\n",
       "        text-align: right;\n",
       "    }\n",
       "</style>\n",
       "<table border=\"1\" class=\"dataframe\">\n",
       "  <thead>\n",
       "    <tr style=\"text-align: right;\">\n",
       "      <th></th>\n",
       "      <th>Neighborhood</th>\n",
       "      <th>1st Most Common Venue</th>\n",
       "      <th>2nd Most Common Venue</th>\n",
       "      <th>3rd Most Common Venue</th>\n",
       "      <th>4th Most Common Venue</th>\n",
       "      <th>5th Most Common Venue</th>\n",
       "    </tr>\n",
       "  </thead>\n",
       "  <tbody>\n",
       "    <tr>\n",
       "      <th>0</th>\n",
       "      <td>Adelaide, King, Richmond</td>\n",
       "      <td>Coffee Shop</td>\n",
       "      <td>Bar</td>\n",
       "      <td>Café</td>\n",
       "      <td>Steakhouse</td>\n",
       "      <td>Cosmetics Shop</td>\n",
       "    </tr>\n",
       "    <tr>\n",
       "      <th>1</th>\n",
       "      <td>Berczy Park</td>\n",
       "      <td>Coffee Shop</td>\n",
       "      <td>Cocktail Bar</td>\n",
       "      <td>Café</td>\n",
       "      <td>Farmers Market</td>\n",
       "      <td>Steakhouse</td>\n",
       "    </tr>\n",
       "    <tr>\n",
       "      <th>2</th>\n",
       "      <td>CN Tower, Bathurst Quay, Island airport, Harbo...</td>\n",
       "      <td>Airport Lounge</td>\n",
       "      <td>Airport Service</td>\n",
       "      <td>Airport Terminal</td>\n",
       "      <td>Boat or Ferry</td>\n",
       "      <td>Sculpture Garden</td>\n",
       "    </tr>\n",
       "    <tr>\n",
       "      <th>3</th>\n",
       "      <td>Cabbagetown, St. James Town</td>\n",
       "      <td>Restaurant</td>\n",
       "      <td>Coffee Shop</td>\n",
       "      <td>Bakery</td>\n",
       "      <td>Italian Restaurant</td>\n",
       "      <td>Café</td>\n",
       "    </tr>\n",
       "    <tr>\n",
       "      <th>4</th>\n",
       "      <td>Central Bay Street</td>\n",
       "      <td>Coffee Shop</td>\n",
       "      <td>Italian Restaurant</td>\n",
       "      <td>Café</td>\n",
       "      <td>Japanese Restaurant</td>\n",
       "      <td>Juice Bar</td>\n",
       "    </tr>\n",
       "  </tbody>\n",
       "</table>\n",
       "</div>"
      ],
      "text/plain": [
       "                                        Neighborhood 1st Most Common Venue  \\\n",
       "0                           Adelaide, King, Richmond           Coffee Shop   \n",
       "1                                        Berczy Park           Coffee Shop   \n",
       "2  CN Tower, Bathurst Quay, Island airport, Harbo...        Airport Lounge   \n",
       "3                        Cabbagetown, St. James Town            Restaurant   \n",
       "4                                 Central Bay Street           Coffee Shop   \n",
       "\n",
       "  2nd Most Common Venue 3rd Most Common Venue 4th Most Common Venue  \\\n",
       "0                   Bar                  Café            Steakhouse   \n",
       "1          Cocktail Bar                  Café        Farmers Market   \n",
       "2       Airport Service      Airport Terminal         Boat or Ferry   \n",
       "3           Coffee Shop                Bakery    Italian Restaurant   \n",
       "4    Italian Restaurant                  Café   Japanese Restaurant   \n",
       "\n",
       "  5th Most Common Venue  \n",
       "0        Cosmetics Shop  \n",
       "1            Steakhouse  \n",
       "2      Sculpture Garden  \n",
       "3                  Café  \n",
       "4             Juice Bar  "
      ]
     },
     "execution_count": 38,
     "metadata": {},
     "output_type": "execute_result"
    }
   ],
   "source": [
    "#get the top 5 venues for each neighborhood\n",
    "\n",
    "num_top_venues = 5\n",
    "indicators = ['st', 'nd', 'rd']\n",
    "\n",
    "# create columns according to number of top venues\n",
    "columns = ['Neighborhood']\n",
    "\n",
    "for ind in np.arange(num_top_venues):\n",
    "    \n",
    "    try:\n",
    "        columns.append('{}{} Most Common Venue'.format(ind+1, indicators[ind]))\n",
    "    except:\n",
    "        columns.append('{}th Most Common Venue'.format(ind+1))\n",
    "\n",
    "# create a new dataframe\n",
    "neighborhoods_venues_sorted = pd.DataFrame(columns=columns)\n",
    "neighborhoods_venues_sorted['Neighborhood'] = downtown_final['Neighborhood']\n",
    "\n",
    "for ind in np.arange(downtown_final.shape[0]):\n",
    "    neighborhoods_venues_sorted.iloc[ind, 1:] = return_most_common_venues(downtown_final.iloc[ind, :], num_top_venues)\n",
    "\n",
    "neighborhoods_venues_sorted.head()"
   ]
  },
  {
   "cell_type": "markdown",
   "metadata": {},
   "source": [
    "# Clustering Downtown Toronto neighborhoods"
   ]
  },
  {
   "cell_type": "code",
   "execution_count": 39,
   "metadata": {},
   "outputs": [],
   "source": [
    "from sklearn.cluster import KMeans"
   ]
  },
  {
   "cell_type": "code",
   "execution_count": 40,
   "metadata": {},
   "outputs": [
    {
     "data": {
      "text/plain": [
       "array([2, 2, 3, 2, 2, 2, 4, 2, 2, 2], dtype=int32)"
      ]
     },
     "execution_count": 40,
     "metadata": {},
     "output_type": "execute_result"
    }
   ],
   "source": [
    "#select dataset\n",
    "downtown_clustering = downtown_final.drop('Neighborhood', 1)\n",
    "\n",
    "#fit with 5 clusters\n",
    "kmeans = KMeans(n_clusters=5, random_state=0).fit(downtown_clustering)\n",
    "\n",
    "#check the labels\n",
    "kmeans.labels_[0:10]"
   ]
  },
  {
   "cell_type": "markdown",
   "metadata": {},
   "source": [
    "Now, I need a new dataframe that includes the clusters as well as the top 5 venues for each neighborhood..."
   ]
  },
  {
   "cell_type": "code",
   "execution_count": 41,
   "metadata": {
    "scrolled": true
   },
   "outputs": [
    {
     "data": {
      "text/html": [
       "<div>\n",
       "<style scoped>\n",
       "    .dataframe tbody tr th:only-of-type {\n",
       "        vertical-align: middle;\n",
       "    }\n",
       "\n",
       "    .dataframe tbody tr th {\n",
       "        vertical-align: top;\n",
       "    }\n",
       "\n",
       "    .dataframe thead th {\n",
       "        text-align: right;\n",
       "    }\n",
       "</style>\n",
       "<table border=\"1\" class=\"dataframe\">\n",
       "  <thead>\n",
       "    <tr style=\"text-align: right;\">\n",
       "      <th></th>\n",
       "      <th>PostalCode</th>\n",
       "      <th>Borough</th>\n",
       "      <th>Neighborhood</th>\n",
       "      <th>Latitude</th>\n",
       "      <th>Longitude</th>\n",
       "      <th>Cluster Labels</th>\n",
       "      <th>1st Most Common Venue</th>\n",
       "      <th>2nd Most Common Venue</th>\n",
       "      <th>3rd Most Common Venue</th>\n",
       "      <th>4th Most Common Venue</th>\n",
       "      <th>5th Most Common Venue</th>\n",
       "    </tr>\n",
       "  </thead>\n",
       "  <tbody>\n",
       "    <tr>\n",
       "      <th>0</th>\n",
       "      <td>M4W</td>\n",
       "      <td>Downtown Toronto</td>\n",
       "      <td>Rosedale</td>\n",
       "      <td>43.679563</td>\n",
       "      <td>-79.377529</td>\n",
       "      <td>1</td>\n",
       "      <td>Park</td>\n",
       "      <td>Playground</td>\n",
       "      <td>Trail</td>\n",
       "      <td>Deli / Bodega</td>\n",
       "      <td>Eastern European Restaurant</td>\n",
       "    </tr>\n",
       "    <tr>\n",
       "      <th>1</th>\n",
       "      <td>M4X</td>\n",
       "      <td>Downtown Toronto</td>\n",
       "      <td>Cabbagetown, St. James Town</td>\n",
       "      <td>43.667967</td>\n",
       "      <td>-79.367675</td>\n",
       "      <td>2</td>\n",
       "      <td>Restaurant</td>\n",
       "      <td>Coffee Shop</td>\n",
       "      <td>Bakery</td>\n",
       "      <td>Italian Restaurant</td>\n",
       "      <td>Café</td>\n",
       "    </tr>\n",
       "    <tr>\n",
       "      <th>2</th>\n",
       "      <td>M4Y</td>\n",
       "      <td>Downtown Toronto</td>\n",
       "      <td>Church and Wellesley</td>\n",
       "      <td>43.665860</td>\n",
       "      <td>-79.383160</td>\n",
       "      <td>2</td>\n",
       "      <td>Coffee Shop</td>\n",
       "      <td>Japanese Restaurant</td>\n",
       "      <td>Sushi Restaurant</td>\n",
       "      <td>Restaurant</td>\n",
       "      <td>Gay Bar</td>\n",
       "    </tr>\n",
       "    <tr>\n",
       "      <th>3</th>\n",
       "      <td>M5A</td>\n",
       "      <td>Downtown Toronto</td>\n",
       "      <td>Harbourfront</td>\n",
       "      <td>43.654260</td>\n",
       "      <td>-79.360636</td>\n",
       "      <td>0</td>\n",
       "      <td>Coffee Shop</td>\n",
       "      <td>Park</td>\n",
       "      <td>Bakery</td>\n",
       "      <td>Pub</td>\n",
       "      <td>Breakfast Spot</td>\n",
       "    </tr>\n",
       "    <tr>\n",
       "      <th>4</th>\n",
       "      <td>M5B</td>\n",
       "      <td>Downtown Toronto</td>\n",
       "      <td>Ryerson, Garden District</td>\n",
       "      <td>43.657162</td>\n",
       "      <td>-79.378937</td>\n",
       "      <td>2</td>\n",
       "      <td>Coffee Shop</td>\n",
       "      <td>Clothing Store</td>\n",
       "      <td>Café</td>\n",
       "      <td>Cosmetics Shop</td>\n",
       "      <td>Middle Eastern Restaurant</td>\n",
       "    </tr>\n",
       "  </tbody>\n",
       "</table>\n",
       "</div>"
      ],
      "text/plain": [
       "  PostalCode           Borough                 Neighborhood   Latitude  \\\n",
       "0        M4W  Downtown Toronto                     Rosedale  43.679563   \n",
       "1        M4X  Downtown Toronto  Cabbagetown, St. James Town  43.667967   \n",
       "2        M4Y  Downtown Toronto         Church and Wellesley  43.665860   \n",
       "3        M5A  Downtown Toronto                 Harbourfront  43.654260   \n",
       "4        M5B  Downtown Toronto     Ryerson, Garden District  43.657162   \n",
       "\n",
       "   Longitude  Cluster Labels 1st Most Common Venue 2nd Most Common Venue  \\\n",
       "0 -79.377529               1                  Park            Playground   \n",
       "1 -79.367675               2            Restaurant           Coffee Shop   \n",
       "2 -79.383160               2           Coffee Shop   Japanese Restaurant   \n",
       "3 -79.360636               0           Coffee Shop                  Park   \n",
       "4 -79.378937               2           Coffee Shop        Clothing Store   \n",
       "\n",
       "  3rd Most Common Venue 4th Most Common Venue        5th Most Common Venue  \n",
       "0                 Trail         Deli / Bodega  Eastern European Restaurant  \n",
       "1                Bakery    Italian Restaurant                         Café  \n",
       "2      Sushi Restaurant            Restaurant                      Gay Bar  \n",
       "3                Bakery                   Pub               Breakfast Spot  \n",
       "4                  Café        Cosmetics Shop    Middle Eastern Restaurant  "
      ]
     },
     "execution_count": 41,
     "metadata": {},
     "output_type": "execute_result"
    }
   ],
   "source": [
    "# add clustering labels into neighborhood's venues dataframe\n",
    "neighborhoods_venues_sorted.insert(0, 'Cluster Labels', kmeans.labels_)\n",
    "\n",
    "# merge first Downtown Toronto dataframe with the venues dataframe to add latitude/longitude for each neighborhood\n",
    "downtown_merged = downtown.join(neighborhoods_venues_sorted.set_index('Neighborhood'), on='Neighborhood')\n",
    "downtown_merged.head()"
   ]
  },
  {
   "cell_type": "markdown",
   "metadata": {},
   "source": [
    "... to create a map with clusters assigned in it"
   ]
  },
  {
   "cell_type": "code",
   "execution_count": 42,
   "metadata": {
    "scrolled": true
   },
   "outputs": [
    {
     "data": {
      "text/html": [
       "<div style=\"width:100%;\"><div style=\"position:relative;width:100%;height:0;padding-bottom:60%;\"><iframe src=\"data:text/html;charset=utf-8;base64,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\" style=\"position:absolute;width:100%;height:100%;left:0;top:0;border:none !important;\" allowfullscreen webkitallowfullscreen mozallowfullscreen></iframe></div></div>"
      ],
      "text/plain": [
       "<folium.folium.Map at 0x7f474b50abe0>"
      ]
     },
     "execution_count": 42,
     "metadata": {},
     "output_type": "execute_result"
    }
   ],
   "source": [
    "import matplotlib.cm as cm\n",
    "import matplotlib.colors as colors\n",
    "\n",
    "# create map\n",
    "map_clusters = folium.Map(location=g.latlng, zoom_start=13)\n",
    "\n",
    "# set color scheme for the clusters\n",
    "x = np.arange(5)\n",
    "ys = [i + x + (i*x)**2 for i in range(5)]\n",
    "colors_array = cm.rainbow(np.linspace(0, 1, len(ys)))\n",
    "rainbow = [colors.rgb2hex(i) for i in colors_array]\n",
    "\n",
    "# add markers to the map\n",
    "markers_colors = []\n",
    "\n",
    "for lat, lon, poi, cluster in zip(downtown_merged['Latitude'], downtown_merged['Longitude'], downtown_merged['Neighborhood'], downtown_merged['Cluster Labels']):\n",
    "    label = folium.Popup(str(poi) + ' Cluster ' + str(cluster), parse_html=True)\n",
    "    folium.CircleMarker(\n",
    "    [lat, lon],\n",
    "    radius=5,\n",
    "    popup=label,\n",
    "    color=rainbow[cluster-1],\n",
    "    fill=True,\n",
    "    fill_color=rainbow[cluster-1],\n",
    "    fill_opacity=0.7).add_to(map_clusters)\n",
    "\n",
    "map_clusters"
   ]
  },
  {
   "cell_type": "markdown",
   "metadata": {},
   "source": [
    "Now I can analyse each cluster to see the neighborhoods and what kind of places (venues) they have. "
   ]
  },
  {
   "cell_type": "markdown",
   "metadata": {},
   "source": [
    "### Cluster 1 - Drink a lot of coffee"
   ]
  },
  {
   "cell_type": "markdown",
   "metadata": {},
   "source": [
    "This cluster has a lot of coffee shops and parks to relax"
   ]
  },
  {
   "cell_type": "code",
   "execution_count": 43,
   "metadata": {},
   "outputs": [
    {
     "data": {
      "text/html": [
       "<div>\n",
       "<style scoped>\n",
       "    .dataframe tbody tr th:only-of-type {\n",
       "        vertical-align: middle;\n",
       "    }\n",
       "\n",
       "    .dataframe tbody tr th {\n",
       "        vertical-align: top;\n",
       "    }\n",
       "\n",
       "    .dataframe thead th {\n",
       "        text-align: right;\n",
       "    }\n",
       "</style>\n",
       "<table border=\"1\" class=\"dataframe\">\n",
       "  <thead>\n",
       "    <tr style=\"text-align: right;\">\n",
       "      <th></th>\n",
       "      <th>Neighborhood</th>\n",
       "      <th>Cluster Labels</th>\n",
       "      <th>1st Most Common Venue</th>\n",
       "      <th>2nd Most Common Venue</th>\n",
       "      <th>3rd Most Common Venue</th>\n",
       "      <th>4th Most Common Venue</th>\n",
       "      <th>5th Most Common Venue</th>\n",
       "    </tr>\n",
       "  </thead>\n",
       "  <tbody>\n",
       "    <tr>\n",
       "      <th>3</th>\n",
       "      <td>Harbourfront</td>\n",
       "      <td>0</td>\n",
       "      <td>Coffee Shop</td>\n",
       "      <td>Park</td>\n",
       "      <td>Bakery</td>\n",
       "      <td>Pub</td>\n",
       "      <td>Breakfast Spot</td>\n",
       "    </tr>\n",
       "    <tr>\n",
       "      <th>18</th>\n",
       "      <td>Queen's Park</td>\n",
       "      <td>0</td>\n",
       "      <td>Coffee Shop</td>\n",
       "      <td>Park</td>\n",
       "      <td>Gym</td>\n",
       "      <td>Nightclub</td>\n",
       "      <td>Sandwich Place</td>\n",
       "    </tr>\n",
       "  </tbody>\n",
       "</table>\n",
       "</div>"
      ],
      "text/plain": [
       "    Neighborhood  Cluster Labels 1st Most Common Venue 2nd Most Common Venue  \\\n",
       "3   Harbourfront               0           Coffee Shop                  Park   \n",
       "18  Queen's Park               0           Coffee Shop                  Park   \n",
       "\n",
       "   3rd Most Common Venue 4th Most Common Venue 5th Most Common Venue  \n",
       "3                 Bakery                   Pub        Breakfast Spot  \n",
       "18                   Gym             Nightclub        Sandwich Place  "
      ]
     },
     "execution_count": 43,
     "metadata": {},
     "output_type": "execute_result"
    }
   ],
   "source": [
    "downtown_merged.loc[downtown_merged['Cluster Labels'] == 0, downtown_merged.columns[[2] + list(range(5, downtown_merged.shape[1]))]]"
   ]
  },
  {
   "cell_type": "markdown",
   "metadata": {},
   "source": [
    "### Cluster 2 - Relax in the park"
   ]
  },
  {
   "cell_type": "markdown",
   "metadata": {},
   "source": [
    "This one also have a lot of parks, but also have a lot of playgrounds and some european restaurants"
   ]
  },
  {
   "cell_type": "code",
   "execution_count": 44,
   "metadata": {},
   "outputs": [
    {
     "data": {
      "text/html": [
       "<div>\n",
       "<style scoped>\n",
       "    .dataframe tbody tr th:only-of-type {\n",
       "        vertical-align: middle;\n",
       "    }\n",
       "\n",
       "    .dataframe tbody tr th {\n",
       "        vertical-align: top;\n",
       "    }\n",
       "\n",
       "    .dataframe thead th {\n",
       "        text-align: right;\n",
       "    }\n",
       "</style>\n",
       "<table border=\"1\" class=\"dataframe\">\n",
       "  <thead>\n",
       "    <tr style=\"text-align: right;\">\n",
       "      <th></th>\n",
       "      <th>Neighborhood</th>\n",
       "      <th>Cluster Labels</th>\n",
       "      <th>1st Most Common Venue</th>\n",
       "      <th>2nd Most Common Venue</th>\n",
       "      <th>3rd Most Common Venue</th>\n",
       "      <th>4th Most Common Venue</th>\n",
       "      <th>5th Most Common Venue</th>\n",
       "    </tr>\n",
       "  </thead>\n",
       "  <tbody>\n",
       "    <tr>\n",
       "      <th>0</th>\n",
       "      <td>Rosedale</td>\n",
       "      <td>1</td>\n",
       "      <td>Park</td>\n",
       "      <td>Playground</td>\n",
       "      <td>Trail</td>\n",
       "      <td>Deli / Bodega</td>\n",
       "      <td>Eastern European Restaurant</td>\n",
       "    </tr>\n",
       "  </tbody>\n",
       "</table>\n",
       "</div>"
      ],
      "text/plain": [
       "  Neighborhood  Cluster Labels 1st Most Common Venue 2nd Most Common Venue  \\\n",
       "0     Rosedale               1                  Park            Playground   \n",
       "\n",
       "  3rd Most Common Venue 4th Most Common Venue        5th Most Common Venue  \n",
       "0                 Trail         Deli / Bodega  Eastern European Restaurant  "
      ]
     },
     "execution_count": 44,
     "metadata": {},
     "output_type": "execute_result"
    }
   ],
   "source": [
    "downtown_merged.loc[downtown_merged['Cluster Labels'] == 1, downtown_merged.columns[[2] + list(range(5, downtown_merged.shape[1]))]]"
   ]
  },
  {
   "cell_type": "markdown",
   "metadata": {},
   "source": [
    "### Cluster 3 - Don't starve, never. And also drink a lot of coffee"
   ]
  },
  {
   "cell_type": "markdown",
   "metadata": {},
   "source": [
    "This cluster, the major one, is the king of restaurants and coffee shops. You will never stay hungry for a lot of time if you're in one of these neighborhoods."
   ]
  },
  {
   "cell_type": "code",
   "execution_count": 45,
   "metadata": {},
   "outputs": [
    {
     "data": {
      "text/html": [
       "<div>\n",
       "<style scoped>\n",
       "    .dataframe tbody tr th:only-of-type {\n",
       "        vertical-align: middle;\n",
       "    }\n",
       "\n",
       "    .dataframe tbody tr th {\n",
       "        vertical-align: top;\n",
       "    }\n",
       "\n",
       "    .dataframe thead th {\n",
       "        text-align: right;\n",
       "    }\n",
       "</style>\n",
       "<table border=\"1\" class=\"dataframe\">\n",
       "  <thead>\n",
       "    <tr style=\"text-align: right;\">\n",
       "      <th></th>\n",
       "      <th>Neighborhood</th>\n",
       "      <th>Cluster Labels</th>\n",
       "      <th>1st Most Common Venue</th>\n",
       "      <th>2nd Most Common Venue</th>\n",
       "      <th>3rd Most Common Venue</th>\n",
       "      <th>4th Most Common Venue</th>\n",
       "      <th>5th Most Common Venue</th>\n",
       "    </tr>\n",
       "  </thead>\n",
       "  <tbody>\n",
       "    <tr>\n",
       "      <th>1</th>\n",
       "      <td>Cabbagetown, St. James Town</td>\n",
       "      <td>2</td>\n",
       "      <td>Restaurant</td>\n",
       "      <td>Coffee Shop</td>\n",
       "      <td>Bakery</td>\n",
       "      <td>Italian Restaurant</td>\n",
       "      <td>Café</td>\n",
       "    </tr>\n",
       "    <tr>\n",
       "      <th>2</th>\n",
       "      <td>Church and Wellesley</td>\n",
       "      <td>2</td>\n",
       "      <td>Coffee Shop</td>\n",
       "      <td>Japanese Restaurant</td>\n",
       "      <td>Sushi Restaurant</td>\n",
       "      <td>Restaurant</td>\n",
       "      <td>Gay Bar</td>\n",
       "    </tr>\n",
       "    <tr>\n",
       "      <th>4</th>\n",
       "      <td>Ryerson, Garden District</td>\n",
       "      <td>2</td>\n",
       "      <td>Coffee Shop</td>\n",
       "      <td>Clothing Store</td>\n",
       "      <td>Café</td>\n",
       "      <td>Cosmetics Shop</td>\n",
       "      <td>Middle Eastern Restaurant</td>\n",
       "    </tr>\n",
       "    <tr>\n",
       "      <th>5</th>\n",
       "      <td>St. James Town</td>\n",
       "      <td>2</td>\n",
       "      <td>Coffee Shop</td>\n",
       "      <td>Café</td>\n",
       "      <td>Restaurant</td>\n",
       "      <td>Cosmetics Shop</td>\n",
       "      <td>Italian Restaurant</td>\n",
       "    </tr>\n",
       "    <tr>\n",
       "      <th>6</th>\n",
       "      <td>Berczy Park</td>\n",
       "      <td>2</td>\n",
       "      <td>Coffee Shop</td>\n",
       "      <td>Cocktail Bar</td>\n",
       "      <td>Café</td>\n",
       "      <td>Farmers Market</td>\n",
       "      <td>Steakhouse</td>\n",
       "    </tr>\n",
       "    <tr>\n",
       "      <th>7</th>\n",
       "      <td>Central Bay Street</td>\n",
       "      <td>2</td>\n",
       "      <td>Coffee Shop</td>\n",
       "      <td>Italian Restaurant</td>\n",
       "      <td>Café</td>\n",
       "      <td>Japanese Restaurant</td>\n",
       "      <td>Juice Bar</td>\n",
       "    </tr>\n",
       "    <tr>\n",
       "      <th>8</th>\n",
       "      <td>Adelaide, King, Richmond</td>\n",
       "      <td>2</td>\n",
       "      <td>Coffee Shop</td>\n",
       "      <td>Bar</td>\n",
       "      <td>Café</td>\n",
       "      <td>Steakhouse</td>\n",
       "      <td>Cosmetics Shop</td>\n",
       "    </tr>\n",
       "    <tr>\n",
       "      <th>9</th>\n",
       "      <td>Harbourfront East, Toronto Islands, Union Station</td>\n",
       "      <td>2</td>\n",
       "      <td>Coffee Shop</td>\n",
       "      <td>Aquarium</td>\n",
       "      <td>Café</td>\n",
       "      <td>Hotel</td>\n",
       "      <td>Scenic Lookout</td>\n",
       "    </tr>\n",
       "    <tr>\n",
       "      <th>10</th>\n",
       "      <td>Design Exchange, Toronto Dominion Centre</td>\n",
       "      <td>2</td>\n",
       "      <td>Coffee Shop</td>\n",
       "      <td>Café</td>\n",
       "      <td>Hotel</td>\n",
       "      <td>Bar</td>\n",
       "      <td>Restaurant</td>\n",
       "    </tr>\n",
       "    <tr>\n",
       "      <th>11</th>\n",
       "      <td>Commerce Court, Victoria Hotel</td>\n",
       "      <td>2</td>\n",
       "      <td>Coffee Shop</td>\n",
       "      <td>Café</td>\n",
       "      <td>Hotel</td>\n",
       "      <td>Restaurant</td>\n",
       "      <td>Steakhouse</td>\n",
       "    </tr>\n",
       "    <tr>\n",
       "      <th>12</th>\n",
       "      <td>Harbord, University of Toronto</td>\n",
       "      <td>2</td>\n",
       "      <td>Café</td>\n",
       "      <td>Bakery</td>\n",
       "      <td>Japanese Restaurant</td>\n",
       "      <td>Bookstore</td>\n",
       "      <td>Sandwich Place</td>\n",
       "    </tr>\n",
       "    <tr>\n",
       "      <th>13</th>\n",
       "      <td>Chinatown, Grange Park, Kensington Market</td>\n",
       "      <td>2</td>\n",
       "      <td>Café</td>\n",
       "      <td>Chinese Restaurant</td>\n",
       "      <td>Vietnamese Restaurant</td>\n",
       "      <td>Dumpling Restaurant</td>\n",
       "      <td>Coffee Shop</td>\n",
       "    </tr>\n",
       "    <tr>\n",
       "      <th>15</th>\n",
       "      <td>Stn A PO Boxes 25 The Esplanade</td>\n",
       "      <td>2</td>\n",
       "      <td>Coffee Shop</td>\n",
       "      <td>Café</td>\n",
       "      <td>Beer Bar</td>\n",
       "      <td>Seafood Restaurant</td>\n",
       "      <td>Italian Restaurant</td>\n",
       "    </tr>\n",
       "    <tr>\n",
       "      <th>16</th>\n",
       "      <td>First Canadian Place, Underground city</td>\n",
       "      <td>2</td>\n",
       "      <td>Coffee Shop</td>\n",
       "      <td>Café</td>\n",
       "      <td>Restaurant</td>\n",
       "      <td>Gym</td>\n",
       "      <td>Hotel</td>\n",
       "    </tr>\n",
       "  </tbody>\n",
       "</table>\n",
       "</div>"
      ],
      "text/plain": [
       "                                         Neighborhood  Cluster Labels  \\\n",
       "1                         Cabbagetown, St. James Town               2   \n",
       "2                                Church and Wellesley               2   \n",
       "4                            Ryerson, Garden District               2   \n",
       "5                                      St. James Town               2   \n",
       "6                                         Berczy Park               2   \n",
       "7                                  Central Bay Street               2   \n",
       "8                            Adelaide, King, Richmond               2   \n",
       "9   Harbourfront East, Toronto Islands, Union Station               2   \n",
       "10           Design Exchange, Toronto Dominion Centre               2   \n",
       "11                     Commerce Court, Victoria Hotel               2   \n",
       "12                     Harbord, University of Toronto               2   \n",
       "13          Chinatown, Grange Park, Kensington Market               2   \n",
       "15                    Stn A PO Boxes 25 The Esplanade               2   \n",
       "16             First Canadian Place, Underground city               2   \n",
       "\n",
       "   1st Most Common Venue 2nd Most Common Venue  3rd Most Common Venue  \\\n",
       "1             Restaurant           Coffee Shop                 Bakery   \n",
       "2            Coffee Shop   Japanese Restaurant       Sushi Restaurant   \n",
       "4            Coffee Shop        Clothing Store                   Café   \n",
       "5            Coffee Shop                  Café             Restaurant   \n",
       "6            Coffee Shop          Cocktail Bar                   Café   \n",
       "7            Coffee Shop    Italian Restaurant                   Café   \n",
       "8            Coffee Shop                   Bar                   Café   \n",
       "9            Coffee Shop              Aquarium                   Café   \n",
       "10           Coffee Shop                  Café                  Hotel   \n",
       "11           Coffee Shop                  Café                  Hotel   \n",
       "12                  Café                Bakery    Japanese Restaurant   \n",
       "13                  Café    Chinese Restaurant  Vietnamese Restaurant   \n",
       "15           Coffee Shop                  Café               Beer Bar   \n",
       "16           Coffee Shop                  Café             Restaurant   \n",
       "\n",
       "   4th Most Common Venue      5th Most Common Venue  \n",
       "1     Italian Restaurant                       Café  \n",
       "2             Restaurant                    Gay Bar  \n",
       "4         Cosmetics Shop  Middle Eastern Restaurant  \n",
       "5         Cosmetics Shop         Italian Restaurant  \n",
       "6         Farmers Market                 Steakhouse  \n",
       "7    Japanese Restaurant                  Juice Bar  \n",
       "8             Steakhouse             Cosmetics Shop  \n",
       "9                  Hotel             Scenic Lookout  \n",
       "10                   Bar                 Restaurant  \n",
       "11            Restaurant                 Steakhouse  \n",
       "12             Bookstore             Sandwich Place  \n",
       "13   Dumpling Restaurant                Coffee Shop  \n",
       "15    Seafood Restaurant         Italian Restaurant  \n",
       "16                   Gym                      Hotel  "
      ]
     },
     "execution_count": 45,
     "metadata": {},
     "output_type": "execute_result"
    }
   ],
   "source": [
    "downtown_merged.loc[downtown_merged['Cluster Labels'] == 2, downtown_merged.columns[[2] + list(range(5, downtown_merged.shape[1]))]]"
   ]
  },
  {
   "cell_type": "markdown",
   "metadata": {},
   "source": [
    "### Cluster 4 - Travel to wherever you want"
   ]
  },
  {
   "cell_type": "markdown",
   "metadata": {},
   "source": [
    "This is the right place to get a flight to Hawai or Caribe."
   ]
  },
  {
   "cell_type": "code",
   "execution_count": 46,
   "metadata": {},
   "outputs": [
    {
     "data": {
      "text/html": [
       "<div>\n",
       "<style scoped>\n",
       "    .dataframe tbody tr th:only-of-type {\n",
       "        vertical-align: middle;\n",
       "    }\n",
       "\n",
       "    .dataframe tbody tr th {\n",
       "        vertical-align: top;\n",
       "    }\n",
       "\n",
       "    .dataframe thead th {\n",
       "        text-align: right;\n",
       "    }\n",
       "</style>\n",
       "<table border=\"1\" class=\"dataframe\">\n",
       "  <thead>\n",
       "    <tr style=\"text-align: right;\">\n",
       "      <th></th>\n",
       "      <th>Neighborhood</th>\n",
       "      <th>Cluster Labels</th>\n",
       "      <th>1st Most Common Venue</th>\n",
       "      <th>2nd Most Common Venue</th>\n",
       "      <th>3rd Most Common Venue</th>\n",
       "      <th>4th Most Common Venue</th>\n",
       "      <th>5th Most Common Venue</th>\n",
       "    </tr>\n",
       "  </thead>\n",
       "  <tbody>\n",
       "    <tr>\n",
       "      <th>14</th>\n",
       "      <td>CN Tower, Bathurst Quay, Island airport, Harbo...</td>\n",
       "      <td>3</td>\n",
       "      <td>Airport Lounge</td>\n",
       "      <td>Airport Service</td>\n",
       "      <td>Airport Terminal</td>\n",
       "      <td>Boat or Ferry</td>\n",
       "      <td>Sculpture Garden</td>\n",
       "    </tr>\n",
       "  </tbody>\n",
       "</table>\n",
       "</div>"
      ],
      "text/plain": [
       "                                         Neighborhood  Cluster Labels  \\\n",
       "14  CN Tower, Bathurst Quay, Island airport, Harbo...               3   \n",
       "\n",
       "   1st Most Common Venue 2nd Most Common Venue 3rd Most Common Venue  \\\n",
       "14        Airport Lounge       Airport Service      Airport Terminal   \n",
       "\n",
       "   4th Most Common Venue 5th Most Common Venue  \n",
       "14         Boat or Ferry      Sculpture Garden  "
      ]
     },
     "execution_count": 46,
     "metadata": {},
     "output_type": "execute_result"
    }
   ],
   "source": [
    "downtown_merged.loc[downtown_merged['Cluster Labels'] == 3, downtown_merged.columns[[2] + list(range(5, downtown_merged.shape[1]))]]"
   ]
  },
  {
   "cell_type": "markdown",
   "metadata": {},
   "source": [
    "### Cluster 5 - Need buy some fresh food?"
   ]
  },
  {
   "cell_type": "markdown",
   "metadata": {},
   "source": [
    "In this last cluster, some common venues repeat themselves from the others, but the second most common venue is grocery store, witch I believe is a good thing if you are a person who likes cooking."
   ]
  },
  {
   "cell_type": "code",
   "execution_count": 47,
   "metadata": {},
   "outputs": [
    {
     "data": {
      "text/html": [
       "<div>\n",
       "<style scoped>\n",
       "    .dataframe tbody tr th:only-of-type {\n",
       "        vertical-align: middle;\n",
       "    }\n",
       "\n",
       "    .dataframe tbody tr th {\n",
       "        vertical-align: top;\n",
       "    }\n",
       "\n",
       "    .dataframe thead th {\n",
       "        text-align: right;\n",
       "    }\n",
       "</style>\n",
       "<table border=\"1\" class=\"dataframe\">\n",
       "  <thead>\n",
       "    <tr style=\"text-align: right;\">\n",
       "      <th></th>\n",
       "      <th>Neighborhood</th>\n",
       "      <th>Cluster Labels</th>\n",
       "      <th>1st Most Common Venue</th>\n",
       "      <th>2nd Most Common Venue</th>\n",
       "      <th>3rd Most Common Venue</th>\n",
       "      <th>4th Most Common Venue</th>\n",
       "      <th>5th Most Common Venue</th>\n",
       "    </tr>\n",
       "  </thead>\n",
       "  <tbody>\n",
       "    <tr>\n",
       "      <th>17</th>\n",
       "      <td>Christie</td>\n",
       "      <td>4</td>\n",
       "      <td>Café</td>\n",
       "      <td>Grocery Store</td>\n",
       "      <td>Park</td>\n",
       "      <td>Gas Station</td>\n",
       "      <td>Restaurant</td>\n",
       "    </tr>\n",
       "  </tbody>\n",
       "</table>\n",
       "</div>"
      ],
      "text/plain": [
       "   Neighborhood  Cluster Labels 1st Most Common Venue 2nd Most Common Venue  \\\n",
       "17     Christie               4                  Café         Grocery Store   \n",
       "\n",
       "   3rd Most Common Venue 4th Most Common Venue 5th Most Common Venue  \n",
       "17                  Park           Gas Station            Restaurant  "
      ]
     },
     "execution_count": 47,
     "metadata": {},
     "output_type": "execute_result"
    }
   ],
   "source": [
    "downtown_merged.loc[downtown_merged['Cluster Labels'] == 4, downtown_merged.columns[[2] + list(range(5, downtown_merged.shape[1]))]]"
   ]
  }
 ],
 "metadata": {
  "kernelspec": {
   "display_name": "Python 3.6",
   "language": "python",
   "name": "python3"
  },
  "language_info": {
   "codemirror_mode": {
    "name": "ipython",
    "version": 3
   },
   "file_extension": ".py",
   "mimetype": "text/x-python",
   "name": "python",
   "nbconvert_exporter": "python",
   "pygments_lexer": "ipython3",
   "version": "3.6.8"
  }
 },
 "nbformat": 4,
 "nbformat_minor": 2
}
