{
 "cells": [
  {
   "cell_type": "markdown",
   "metadata": {},
   "source": [
    "# Toronto neighborhoods coordenates"
   ]
  },
  {
   "cell_type": "markdown",
   "metadata": {},
   "source": [
    "### Creating the dataframe using BeautifulSoup (skip to last cells to see the final dataframe)"
   ]
  },
  {
   "cell_type": "code",
   "execution_count": 1,
   "metadata": {},
   "outputs": [],
   "source": [
    "import pandas as pd\n",
    "from bs4 import BeautifulSoup\n",
    "import requests\n",
    "import numpy as np"
   ]
  },
  {
   "cell_type": "code",
   "execution_count": 2,
   "metadata": {},
   "outputs": [],
   "source": [
    "# create html variable and an empty dataframe\n",
    "url = 'https://en.wikipedia.org/wiki/List_of_postal_codes_of_Canada:_M'\n",
    "toronto_hoods = pd.DataFrame(columns=['PostalCode', 'Borough', 'Neighborhood'])"
   ]
  },
  {
   "cell_type": "code",
   "execution_count": 3,
   "metadata": {},
   "outputs": [],
   "source": [
    "# open html using BeautifulSoup\n",
    "source = requests.get(url).text\n",
    "soup = BeautifulSoup(source, 'html.parser')"
   ]
  },
  {
   "cell_type": "code",
   "execution_count": 4,
   "metadata": {
    "scrolled": true
   },
   "outputs": [
    {
     "name": "stdout",
     "output_type": "stream",
     "text": [
      "['M1A\\nNot assigned\\nNot assigned', 'M2A\\nNot assigned\\nNot assigned', 'M3A\\nNorth York\\nParkwoods', 'M4A\\nNorth York\\nVictoria Village', 'M5A\\nDowntown Toronto\\nHarbourfront', 'M6A\\nNorth York\\nLawrence Heights', 'M6A\\nNorth York\\nLawrence Manor', \"M7A\\nDowntown Toronto\\nQueen's Park\", 'M8A\\nNot assigned\\nNot assigned', \"M9A\\nQueen's Park\\nNot assigned\", 'M1B\\nScarborough\\nRouge', 'M1B\\nScarborough\\nMalvern', 'M2B\\nNot assigned\\nNot assigned', 'M3B\\nNorth York\\nDon Mills North', 'M4B\\nEast York\\nWoodbine Gardens', 'M4B\\nEast York\\nParkview Hill', 'M5B\\nDowntown Toronto\\nRyerson', 'M5B\\nDowntown Toronto\\nGarden District', 'M6B\\nNorth York\\nGlencairn', 'M7B\\nNot assigned\\nNot assigned', 'M8B\\nNot assigned\\nNot assigned', 'M9B\\nEtobicoke\\nCloverdale', 'M9B\\nEtobicoke\\nIslington', 'M9B\\nEtobicoke\\nMartin Grove', 'M9B\\nEtobicoke\\nPrincess Gardens', 'M9B\\nEtobicoke\\nWest Deane Park', 'M1C\\nScarborough\\nHighland Creek', 'M1C\\nScarborough\\nRouge Hill', 'M1C\\nScarborough\\nPort Union', 'M2C\\nNot assigned\\nNot assigned', 'M3C\\nNorth York\\nFlemingdon Park', 'M3C\\nNorth York\\nDon Mills South', 'M4C\\nEast York\\nWoodbine Heights', 'M5C\\nDowntown Toronto\\nSt. James Town', 'M6C\\nYork\\nHumewood-Cedarvale', 'M7C\\nNot assigned\\nNot assigned', 'M8C\\nNot assigned\\nNot assigned', 'M9C\\nEtobicoke\\nBloordale Gardens', 'M9C\\nEtobicoke\\nEringate', 'M9C\\nEtobicoke\\nMarkland Wood', 'M9C\\nEtobicoke\\nOld Burnhamthorpe', 'M1E\\nScarborough\\nGuildwood', 'M1E\\nScarborough\\nMorningside', 'M1E\\nScarborough\\nWest Hill', 'M2E\\nNot assigned\\nNot assigned', 'M3E\\nNot assigned\\nNot assigned', 'M4E\\nEast Toronto\\nThe Beaches', 'M5E\\nDowntown Toronto\\nBerczy Park', 'M6E\\nYork\\nCaledonia-Fairbanks', 'M7E\\nNot assigned\\nNot assigned', 'M8E\\nNot assigned\\nNot assigned', 'M9E\\nNot assigned\\nNot assigned', 'M1G\\nScarborough\\nWoburn', 'M2G\\nNot assigned\\nNot assigned', 'M3G\\nNot assigned\\nNot assigned', 'M4G\\nEast York\\nLeaside', 'M5G\\nDowntown Toronto\\nCentral Bay Street', 'M6G\\nDowntown Toronto\\nChristie', 'M7G\\nNot assigned\\nNot assigned', 'M8G\\nNot assigned\\nNot assigned', 'M9G\\nNot assigned\\nNot assigned', 'M1H\\nScarborough\\nCedarbrae', 'M2H\\nNorth York\\nHillcrest Village', 'M3H\\nNorth York\\nBathurst Manor', 'M3H\\nNorth York\\nDownsview North', 'M3H\\nNorth York\\nWilson Heights', 'M4H\\nEast York\\nThorncliffe Park', 'M5H\\nDowntown Toronto\\nAdelaide', 'M5H\\nDowntown Toronto\\nKing', 'M5H\\nDowntown Toronto\\nRichmond', 'M6H\\nWest Toronto\\nDovercourt Village', 'M6H\\nWest Toronto\\nDufferin', 'M7H\\nNot assigned\\nNot assigned', 'M8H\\nNot assigned\\nNot assigned', 'M9H\\nNot assigned\\nNot assigned', 'M1J\\nScarborough\\nScarborough Village', 'M2J\\nNorth York\\nFairview', 'M2J\\nNorth York\\nHenry Farm', 'M2J\\nNorth York\\nOriole', 'M3J\\nNorth York\\nNorthwood Park', 'M3J\\nNorth York\\nYork University', 'M4J\\nEast York\\nEast Toronto', 'M5J\\nDowntown Toronto\\nHarbourfront East', 'M5J\\nDowntown Toronto\\nToronto Islands', 'M5J\\nDowntown Toronto\\nUnion Station', 'M6J\\nWest Toronto\\nLittle Portugal', 'M6J\\nWest Toronto\\nTrinity', 'M7J\\nNot assigned\\nNot assigned', 'M8J\\nNot assigned\\nNot assigned', 'M9J\\nNot assigned\\nNot assigned', 'M1K\\nScarborough\\nEast Birchmount Park', 'M1K\\nScarborough\\nIonview', 'M1K\\nScarborough\\nKennedy Park', 'M2K\\nNorth York\\nBayview Village', 'M3K\\nNorth York\\nCFB Toronto', 'M3K\\nNorth York\\nDownsview East', 'M4K\\nEast Toronto\\nThe Danforth West', 'M4K\\nEast Toronto\\nRiverdale', 'M5K\\nDowntown Toronto\\nDesign Exchange', 'M5K\\nDowntown Toronto\\nToronto Dominion Centre', 'M6K\\nWest Toronto\\nBrockton', 'M6K\\nWest Toronto\\nExhibition Place', 'M6K\\nWest Toronto\\nParkdale Village', 'M7K\\nNot assigned\\nNot assigned', 'M8K\\nNot assigned\\nNot assigned', 'M9K\\nNot assigned\\nNot assigned', 'M1L\\nScarborough\\nClairlea', 'M1L\\nScarborough\\nGolden Mile', 'M1L\\nScarborough\\nOakridge', 'M2L\\nNorth York\\nSilver Hills', 'M2L\\nNorth York\\nYork Mills', 'M3L\\nNorth York\\nDownsview West', 'M4L\\nEast Toronto\\nThe Beaches West', 'M4L\\nEast Toronto\\nIndia Bazaar', 'M5L\\nDowntown Toronto\\nCommerce Court', 'M5L\\nDowntown Toronto\\nVictoria Hotel', 'M6L\\nNorth York\\nDownsview', 'M6L\\nNorth York\\nNorth Park', 'M6L\\nNorth York\\nUpwood Park', 'M7L\\nNot assigned\\nNot assigned', 'M8L\\nNot assigned\\nNot assigned', 'M9L\\nNorth York\\nHumber Summit', 'M1M\\nScarborough\\nCliffcrest', 'M1M\\nScarborough\\nCliffside', 'M1M\\nScarborough\\nScarborough Village West', 'M2M\\nNorth York\\nNewtonbrook', 'M2M\\nNorth York\\nWillowdale', 'M3M\\nNorth York\\nDownsview Central', 'M4M\\nEast Toronto\\nStudio District', 'M5M\\nNorth York\\nBedford Park', 'M5M\\nNorth York\\nLawrence Manor East', 'M6M\\nYork\\nDel Ray', 'M6M\\nYork\\nKeelesdale', 'M6M\\nYork\\nMount Dennis', 'M6M\\nYork\\nSilverthorn', 'M7M\\nNot assigned\\nNot assigned', 'M8M\\nNot assigned\\nNot assigned', 'M9M\\nNorth York\\nEmery', 'M9M\\nNorth York\\nHumberlea', 'M1N\\nScarborough\\nBirch Cliff', 'M1N\\nScarborough\\nCliffside West', 'M2N\\nNorth York\\nWillowdale South', 'M3N\\nNorth York\\nDownsview Northwest', 'M4N\\nCentral Toronto\\nLawrence Park', 'M5N\\nCentral Toronto\\nRoselawn', 'M6N\\nYork\\nThe Junction North', 'M6N\\nYork\\nRunnymede', 'M7N\\nNot assigned\\nNot assigned', 'M8N\\nNot assigned\\nNot assigned', 'M9N\\nYork\\nWeston', 'M1P\\nScarborough\\nDorset Park', 'M1P\\nScarborough\\nScarborough Town Centre', 'M1P\\nScarborough\\nWexford Heights', 'M2P\\nNorth York\\nYork Mills West', 'M3P\\nNot assigned\\nNot assigned', 'M4P\\nCentral Toronto\\nDavisville North', 'M5P\\nCentral Toronto\\nForest Hill North', 'M5P\\nCentral Toronto\\nForest Hill West', 'M6P\\nWest Toronto\\nHigh Park', 'M6P\\nWest Toronto\\nThe Junction South', 'M7P\\nNot assigned\\nNot assigned', 'M8P\\nNot assigned\\nNot assigned', 'M9P\\nEtobicoke\\nWestmount', 'M1R\\nScarborough\\nMaryvale', 'M1R\\nScarborough\\nWexford', 'M2R\\nNorth York\\nWillowdale West', 'M3R\\nNot assigned\\nNot assigned', 'M4R\\nCentral Toronto\\nNorth Toronto West', 'M5R\\nCentral Toronto\\nThe Annex', 'M5R\\nCentral Toronto\\nNorth Midtown', 'M5R\\nCentral Toronto\\nYorkville', 'M6R\\nWest Toronto\\nParkdale', 'M6R\\nWest Toronto\\nRoncesvalles', 'M7R\\nMississauga\\nCanada Post Gateway Processing Centre', 'M8R\\nNot assigned\\nNot assigned', 'M9R\\nEtobicoke\\nKingsview Village', 'M9R\\nEtobicoke\\nMartin Grove Gardens', 'M9R\\nEtobicoke\\nRichview Gardens', 'M9R\\nEtobicoke\\nSt. Phillips', 'M1S\\nScarborough\\nAgincourt', 'M2S\\nNot assigned\\nNot assigned', 'M3S\\nNot assigned\\nNot assigned', 'M4S\\nCentral Toronto\\nDavisville', 'M5S\\nDowntown Toronto\\nHarbord', 'M5S\\nDowntown Toronto\\nUniversity of Toronto', 'M6S\\nWest Toronto\\nRunnymede', 'M6S\\nWest Toronto\\nSwansea', 'M7S\\nNot assigned\\nNot assigned', 'M8S\\nNot assigned\\nNot assigned', 'M9S\\nNot assigned\\nNot assigned', 'M1T\\nScarborough\\nClarks Corners', 'M1T\\nScarborough\\nSullivan', \"M1T\\nScarborough\\nTam O'Shanter\", 'M2T\\nNot assigned\\nNot assigned', 'M3T\\nNot assigned\\nNot assigned', 'M4T\\nCentral Toronto\\nMoore Park', 'M4T\\nCentral Toronto\\nSummerhill East', 'M5T\\nDowntown Toronto\\nChinatown', 'M5T\\nDowntown Toronto\\nGrange Park', 'M5T\\nDowntown Toronto\\nKensington Market', 'M6T\\nNot assigned\\nNot assigned', 'M7T\\nNot assigned\\nNot assigned', 'M8T\\nNot assigned\\nNot assigned', 'M9T\\nNot assigned\\nNot assigned', 'M1V\\nScarborough\\nAgincourt North', \"M1V\\nScarborough\\nL'Amoreaux East\", 'M1V\\nScarborough\\nMilliken', 'M1V\\nScarborough\\nSteeles East', 'M2V\\nNot assigned\\nNot assigned', 'M3V\\nNot assigned\\nNot assigned', 'M4V\\nCentral Toronto\\nDeer Park', 'M4V\\nCentral Toronto\\nForest Hill SE', 'M4V\\nCentral Toronto\\nRathnelly', 'M4V\\nCentral Toronto\\nSouth Hill', 'M4V\\nCentral Toronto\\nSummerhill West', 'M5V\\nDowntown Toronto\\nCN Tower', 'M5V\\nDowntown Toronto\\nBathurst Quay', 'M5V\\nDowntown Toronto\\nIsland airport', 'M5V\\nDowntown Toronto\\nHarbourfront West', 'M5V\\nDowntown Toronto\\nKing and Spadina', 'M5V\\nDowntown Toronto\\nRailway Lands', 'M5V\\nDowntown Toronto\\nSouth Niagara', 'M6V\\nNot assigned\\nNot assigned', 'M7V\\nNot assigned\\nNot assigned', 'M8V\\nEtobicoke\\nHumber Bay Shores', 'M8V\\nEtobicoke\\nMimico South', 'M8V\\nEtobicoke\\nNew Toronto', 'M9V\\nEtobicoke\\nAlbion Gardens', 'M9V\\nEtobicoke\\nBeaumond Heights', 'M9V\\nEtobicoke\\nHumbergate', 'M9V\\nEtobicoke\\nJamestown', 'M9V\\nEtobicoke\\nMount Olive', 'M9V\\nEtobicoke\\nSilverstone', 'M9V\\nEtobicoke\\nSouth Steeles', 'M9V\\nEtobicoke\\nThistletown', \"M1W\\nScarborough\\nL'Amoreaux West\", 'M2W\\nNot assigned\\nNot assigned', 'M3W\\nNot assigned\\nNot assigned', 'M4W\\nDowntown Toronto\\nRosedale', 'M5W\\nDowntown Toronto\\nStn A PO Boxes 25 The Esplanade', 'M6W\\nNot assigned\\nNot assigned', 'M7W\\nNot assigned\\nNot assigned', 'M8W\\nEtobicoke\\nAlderwood', 'M8W\\nEtobicoke\\nLong Branch', 'M9W\\nEtobicoke\\nNorthwest', 'M1X\\nScarborough\\nUpper Rouge', 'M2X\\nNot assigned\\nNot assigned', 'M3X\\nNot assigned\\nNot assigned', 'M4X\\nDowntown Toronto\\nCabbagetown', 'M4X\\nDowntown Toronto\\nSt. James Town', 'M5X\\nDowntown Toronto\\nFirst Canadian Place', 'M5X\\nDowntown Toronto\\nUnderground city', 'M6X\\nNot assigned\\nNot assigned', 'M7X\\nNot assigned\\nNot assigned', 'M8X\\nEtobicoke\\nThe Kingsway', 'M8X\\nEtobicoke\\nMontgomery Road', 'M8X\\nEtobicoke\\nOld Mill North', 'M9X\\nNot assigned\\nNot assigned', 'M1Y\\nNot assigned\\nNot assigned', 'M2Y\\nNot assigned\\nNot assigned', 'M3Y\\nNot assigned\\nNot assigned', 'M4Y\\nDowntown Toronto\\nChurch and Wellesley', 'M5Y\\nNot assigned\\nNot assigned', 'M6Y\\nNot assigned\\nNot assigned', 'M7Y\\nEast Toronto\\nBusiness Reply Mail Processing Centre 969 Eastern', 'M8Y\\nEtobicoke\\nHumber Bay', \"M8Y\\nEtobicoke\\nKing's Mill Park\", 'M8Y\\nEtobicoke\\nKingsway Park South East', 'M8Y\\nEtobicoke\\nMimico NE', 'M8Y\\nEtobicoke\\nOld Mill South', 'M8Y\\nEtobicoke\\nThe Queensway East', 'M8Y\\nEtobicoke\\nRoyal York South East', 'M8Y\\nEtobicoke\\nSunnylea', 'M9Y\\nNot assigned\\nNot assigned', 'M1Z\\nNot assigned\\nNot assigned', 'M2Z\\nNot assigned\\nNot assigned', 'M3Z\\nNot assigned\\nNot assigned', 'M4Z\\nNot assigned\\nNot assigned', 'M5Z\\nNot assigned\\nNot assigned', 'M6Z\\nNot assigned\\nNot assigned', 'M7Z\\nNot assigned\\nNot assigned', 'M8Z\\nEtobicoke\\nKingsway Park South West', 'M8Z\\nEtobicoke\\nMimico NW', 'M8Z\\nEtobicoke\\nThe Queensway West', 'M8Z\\nEtobicoke\\nRoyal York South West', 'M8Z\\nEtobicoke\\nSouth of Bloor', 'M9Z\\nNot assigned\\nNot assigned\\n\\n']\n"
     ]
    }
   ],
   "source": [
    "# table separeted from the webpage using soup atributes\n",
    "table = soup.table\n",
    "table_rows = table.tbody.text\n",
    "\n",
    "# create a list with each row of table as a list element\n",
    "toronto_list = table_rows.split('\\n\\n\\n')\n",
    "\n",
    "# drop of the table head - the first element of the list\n",
    "toronto_list.pop(0)\n",
    "print(toronto_list)"
   ]
  },
  {
   "cell_type": "code",
   "execution_count": 5,
   "metadata": {
    "scrolled": true
   },
   "outputs": [],
   "source": [
    "# separate each postalcode, borough, neighborhood from the list to a separate one\n",
    "\n",
    "postalcode = []\n",
    "borough = []\n",
    "neighborhood = []\n",
    "    \n",
    "for i in toronto_list:\n",
    "    row = i\n",
    "    row = row.split('\\n')\n",
    "    if row[1] != 'Not assigned':\n",
    "        postalcode.append(row[0])\n",
    "        borough.append(row[1])\n",
    "        neighborhood.append(row[2]) \n",
    "        \n",
    "    else:\n",
    "        pass"
   ]
  },
  {
   "cell_type": "code",
   "execution_count": 6,
   "metadata": {},
   "outputs": [
    {
     "data": {
      "text/html": [
       "<div>\n",
       "<style scoped>\n",
       "    .dataframe tbody tr th:only-of-type {\n",
       "        vertical-align: middle;\n",
       "    }\n",
       "\n",
       "    .dataframe tbody tr th {\n",
       "        vertical-align: top;\n",
       "    }\n",
       "\n",
       "    .dataframe thead th {\n",
       "        text-align: right;\n",
       "    }\n",
       "</style>\n",
       "<table border=\"1\" class=\"dataframe\">\n",
       "  <thead>\n",
       "    <tr style=\"text-align: right;\">\n",
       "      <th></th>\n",
       "      <th>PostalCode</th>\n",
       "      <th>Borough</th>\n",
       "      <th>Neighborhood</th>\n",
       "    </tr>\n",
       "  </thead>\n",
       "  <tbody>\n",
       "    <tr>\n",
       "      <th>0</th>\n",
       "      <td>M3A</td>\n",
       "      <td>North York</td>\n",
       "      <td>Parkwoods</td>\n",
       "    </tr>\n",
       "    <tr>\n",
       "      <th>1</th>\n",
       "      <td>M4A</td>\n",
       "      <td>North York</td>\n",
       "      <td>Victoria Village</td>\n",
       "    </tr>\n",
       "    <tr>\n",
       "      <th>2</th>\n",
       "      <td>M5A</td>\n",
       "      <td>Downtown Toronto</td>\n",
       "      <td>Harbourfront</td>\n",
       "    </tr>\n",
       "    <tr>\n",
       "      <th>3</th>\n",
       "      <td>M6A</td>\n",
       "      <td>North York</td>\n",
       "      <td>Lawrence Heights</td>\n",
       "    </tr>\n",
       "    <tr>\n",
       "      <th>4</th>\n",
       "      <td>M6A</td>\n",
       "      <td>North York</td>\n",
       "      <td>Lawrence Manor</td>\n",
       "    </tr>\n",
       "    <tr>\n",
       "      <th>5</th>\n",
       "      <td>M7A</td>\n",
       "      <td>Downtown Toronto</td>\n",
       "      <td>Queen's Park</td>\n",
       "    </tr>\n",
       "    <tr>\n",
       "      <th>6</th>\n",
       "      <td>M9A</td>\n",
       "      <td>Queen's Park</td>\n",
       "      <td>Not assigned</td>\n",
       "    </tr>\n",
       "    <tr>\n",
       "      <th>7</th>\n",
       "      <td>M1B</td>\n",
       "      <td>Scarborough</td>\n",
       "      <td>Rouge</td>\n",
       "    </tr>\n",
       "    <tr>\n",
       "      <th>8</th>\n",
       "      <td>M1B</td>\n",
       "      <td>Scarborough</td>\n",
       "      <td>Malvern</td>\n",
       "    </tr>\n",
       "    <tr>\n",
       "      <th>9</th>\n",
       "      <td>M3B</td>\n",
       "      <td>North York</td>\n",
       "      <td>Don Mills North</td>\n",
       "    </tr>\n",
       "  </tbody>\n",
       "</table>\n",
       "</div>"
      ],
      "text/plain": [
       "  PostalCode           Borough      Neighborhood\n",
       "0        M3A        North York         Parkwoods\n",
       "1        M4A        North York  Victoria Village\n",
       "2        M5A  Downtown Toronto      Harbourfront\n",
       "3        M6A        North York  Lawrence Heights\n",
       "4        M6A        North York    Lawrence Manor\n",
       "5        M7A  Downtown Toronto      Queen's Park\n",
       "6        M9A      Queen's Park      Not assigned\n",
       "7        M1B       Scarborough             Rouge\n",
       "8        M1B       Scarborough           Malvern\n",
       "9        M3B        North York   Don Mills North"
      ]
     },
     "execution_count": 6,
     "metadata": {},
     "output_type": "execute_result"
    }
   ],
   "source": [
    "#alocate each lists values into the dataframe\n",
    "\n",
    "for i in range(len(postalcode)):\n",
    "    toronto_hoods = toronto_hoods.append({'PostalCode' : postalcode[i] , 'Borough' : borough[i], 'Neighborhood' : neighborhood[i]}, ignore_index=True)\n",
    "\n",
    "toronto_hoods.head(10)"
   ]
  },
  {
   "cell_type": "code",
   "execution_count": 7,
   "metadata": {},
   "outputs": [
    {
     "data": {
      "text/plain": [
       "PostalCode      0\n",
       "Borough         0\n",
       "Neighborhood    1\n",
       "dtype: int64"
      ]
     },
     "execution_count": 7,
     "metadata": {},
     "output_type": "execute_result"
    }
   ],
   "source": [
    "# check cases of missing neighborhoods\n",
    "toronto_hoods.replace('Not assigned', np.nan, inplace=True)\n",
    "toronto_hoods.isnull().sum()"
   ]
  },
  {
   "cell_type": "code",
   "execution_count": 8,
   "metadata": {},
   "outputs": [],
   "source": [
    "# replace missing neighborhoods\n",
    "toronto_hoods.loc[6].replace(np.nan, 'Queen\\'s Park', inplace=True)"
   ]
  },
  {
   "cell_type": "code",
   "execution_count": 9,
   "metadata": {},
   "outputs": [
    {
     "name": "stdout",
     "output_type": "stream",
     "text": [
      "<class 'pandas.core.frame.DataFrame'>\n"
     ]
    }
   ],
   "source": [
    "print(type(toronto_hoods))"
   ]
  },
  {
   "cell_type": "code",
   "execution_count": 10,
   "metadata": {},
   "outputs": [],
   "source": [
    "# aggregate neighborhoods according to postalcode\n",
    "strJoin = lambda x:\", \".join(x.astype(str))\n",
    "toronto_hoods = toronto_hoods.groupby(['PostalCode', 'Borough'], as_index=False, sort=False).agg({'Neighborhood':strJoin})"
   ]
  },
  {
   "cell_type": "code",
   "execution_count": 11,
   "metadata": {},
   "outputs": [
    {
     "data": {
      "text/html": [
       "<div>\n",
       "<style scoped>\n",
       "    .dataframe tbody tr th:only-of-type {\n",
       "        vertical-align: middle;\n",
       "    }\n",
       "\n",
       "    .dataframe tbody tr th {\n",
       "        vertical-align: top;\n",
       "    }\n",
       "\n",
       "    .dataframe thead th {\n",
       "        text-align: right;\n",
       "    }\n",
       "</style>\n",
       "<table border=\"1\" class=\"dataframe\">\n",
       "  <thead>\n",
       "    <tr style=\"text-align: right;\">\n",
       "      <th></th>\n",
       "      <th>PostalCode</th>\n",
       "      <th>Borough</th>\n",
       "      <th>Neighborhood</th>\n",
       "    </tr>\n",
       "  </thead>\n",
       "  <tbody>\n",
       "    <tr>\n",
       "      <th>0</th>\n",
       "      <td>M3A</td>\n",
       "      <td>North York</td>\n",
       "      <td>Parkwoods</td>\n",
       "    </tr>\n",
       "    <tr>\n",
       "      <th>1</th>\n",
       "      <td>M4A</td>\n",
       "      <td>North York</td>\n",
       "      <td>Victoria Village</td>\n",
       "    </tr>\n",
       "    <tr>\n",
       "      <th>2</th>\n",
       "      <td>M5A</td>\n",
       "      <td>Downtown Toronto</td>\n",
       "      <td>Harbourfront</td>\n",
       "    </tr>\n",
       "    <tr>\n",
       "      <th>3</th>\n",
       "      <td>M6A</td>\n",
       "      <td>North York</td>\n",
       "      <td>Lawrence Heights, Lawrence Manor</td>\n",
       "    </tr>\n",
       "    <tr>\n",
       "      <th>4</th>\n",
       "      <td>M7A</td>\n",
       "      <td>Downtown Toronto</td>\n",
       "      <td>Queen's Park</td>\n",
       "    </tr>\n",
       "  </tbody>\n",
       "</table>\n",
       "</div>"
      ],
      "text/plain": [
       "  PostalCode           Borough                      Neighborhood\n",
       "0        M3A        North York                         Parkwoods\n",
       "1        M4A        North York                  Victoria Village\n",
       "2        M5A  Downtown Toronto                      Harbourfront\n",
       "3        M6A        North York  Lawrence Heights, Lawrence Manor\n",
       "4        M7A  Downtown Toronto                      Queen's Park"
      ]
     },
     "execution_count": 11,
     "metadata": {},
     "output_type": "execute_result"
    }
   ],
   "source": [
    "toronto_hoods.head()"
   ]
  },
  {
   "cell_type": "code",
   "execution_count": 12,
   "metadata": {},
   "outputs": [
    {
     "data": {
      "text/plain": [
       "(103, 3)"
      ]
     },
     "execution_count": 12,
     "metadata": {},
     "output_type": "execute_result"
    }
   ],
   "source": [
    "toronto_hoods.shape"
   ]
  },
  {
   "cell_type": "markdown",
   "metadata": {},
   "source": [
    "### Getting coordenates and creating final dataframe"
   ]
  },
  {
   "cell_type": "code",
   "execution_count": 13,
   "metadata": {},
   "outputs": [
    {
     "data": {
      "text/html": [
       "<div>\n",
       "<style scoped>\n",
       "    .dataframe tbody tr th:only-of-type {\n",
       "        vertical-align: middle;\n",
       "    }\n",
       "\n",
       "    .dataframe tbody tr th {\n",
       "        vertical-align: top;\n",
       "    }\n",
       "\n",
       "    .dataframe thead th {\n",
       "        text-align: right;\n",
       "    }\n",
       "</style>\n",
       "<table border=\"1\" class=\"dataframe\">\n",
       "  <thead>\n",
       "    <tr style=\"text-align: right;\">\n",
       "      <th></th>\n",
       "      <th>PostalCode</th>\n",
       "      <th>Latitude</th>\n",
       "      <th>Longitude</th>\n",
       "    </tr>\n",
       "  </thead>\n",
       "  <tbody>\n",
       "    <tr>\n",
       "      <th>0</th>\n",
       "      <td>M1B</td>\n",
       "      <td>43.806686</td>\n",
       "      <td>-79.194353</td>\n",
       "    </tr>\n",
       "    <tr>\n",
       "      <th>1</th>\n",
       "      <td>M1C</td>\n",
       "      <td>43.784535</td>\n",
       "      <td>-79.160497</td>\n",
       "    </tr>\n",
       "    <tr>\n",
       "      <th>2</th>\n",
       "      <td>M1E</td>\n",
       "      <td>43.763573</td>\n",
       "      <td>-79.188711</td>\n",
       "    </tr>\n",
       "    <tr>\n",
       "      <th>3</th>\n",
       "      <td>M1G</td>\n",
       "      <td>43.770992</td>\n",
       "      <td>-79.216917</td>\n",
       "    </tr>\n",
       "    <tr>\n",
       "      <th>4</th>\n",
       "      <td>M1H</td>\n",
       "      <td>43.773136</td>\n",
       "      <td>-79.239476</td>\n",
       "    </tr>\n",
       "  </tbody>\n",
       "</table>\n",
       "</div>"
      ],
      "text/plain": [
       "  PostalCode   Latitude  Longitude\n",
       "0        M1B  43.806686 -79.194353\n",
       "1        M1C  43.784535 -79.160497\n",
       "2        M1E  43.763573 -79.188711\n",
       "3        M1G  43.770992 -79.216917\n",
       "4        M1H  43.773136 -79.239476"
      ]
     },
     "execution_count": 13,
     "metadata": {},
     "output_type": "execute_result"
    }
   ],
   "source": [
    "coordenates = 'https://cocl.us/Geospatial_data'\n",
    "latlong = pd.read_csv(coordenates)\n",
    "latlong.rename(columns = {'Postal Code':'PostalCode'}, inplace = True)\n",
    "latlong.head()"
   ]
  },
  {
   "cell_type": "code",
   "execution_count": 14,
   "metadata": {},
   "outputs": [
    {
     "data": {
      "text/plain": [
       "(103, 3)"
      ]
     },
     "execution_count": 14,
     "metadata": {},
     "output_type": "execute_result"
    }
   ],
   "source": [
    "latlong.shape"
   ]
  },
  {
   "cell_type": "code",
   "execution_count": 15,
   "metadata": {},
   "outputs": [],
   "source": [
    "toronto_final = pd.merge(toronto_hoods, latlong, sort=True)"
   ]
  },
  {
   "cell_type": "code",
   "execution_count": 16,
   "metadata": {},
   "outputs": [
    {
     "data": {
      "text/html": [
       "<div>\n",
       "<style scoped>\n",
       "    .dataframe tbody tr th:only-of-type {\n",
       "        vertical-align: middle;\n",
       "    }\n",
       "\n",
       "    .dataframe tbody tr th {\n",
       "        vertical-align: top;\n",
       "    }\n",
       "\n",
       "    .dataframe thead th {\n",
       "        text-align: right;\n",
       "    }\n",
       "</style>\n",
       "<table border=\"1\" class=\"dataframe\">\n",
       "  <thead>\n",
       "    <tr style=\"text-align: right;\">\n",
       "      <th></th>\n",
       "      <th>PostalCode</th>\n",
       "      <th>Borough</th>\n",
       "      <th>Neighborhood</th>\n",
       "      <th>Latitude</th>\n",
       "      <th>Longitude</th>\n",
       "    </tr>\n",
       "  </thead>\n",
       "  <tbody>\n",
       "    <tr>\n",
       "      <th>0</th>\n",
       "      <td>M1B</td>\n",
       "      <td>Scarborough</td>\n",
       "      <td>Rouge, Malvern</td>\n",
       "      <td>43.806686</td>\n",
       "      <td>-79.194353</td>\n",
       "    </tr>\n",
       "    <tr>\n",
       "      <th>1</th>\n",
       "      <td>M1C</td>\n",
       "      <td>Scarborough</td>\n",
       "      <td>Highland Creek, Rouge Hill, Port Union</td>\n",
       "      <td>43.784535</td>\n",
       "      <td>-79.160497</td>\n",
       "    </tr>\n",
       "    <tr>\n",
       "      <th>2</th>\n",
       "      <td>M1E</td>\n",
       "      <td>Scarborough</td>\n",
       "      <td>Guildwood, Morningside, West Hill</td>\n",
       "      <td>43.763573</td>\n",
       "      <td>-79.188711</td>\n",
       "    </tr>\n",
       "    <tr>\n",
       "      <th>3</th>\n",
       "      <td>M1G</td>\n",
       "      <td>Scarborough</td>\n",
       "      <td>Woburn</td>\n",
       "      <td>43.770992</td>\n",
       "      <td>-79.216917</td>\n",
       "    </tr>\n",
       "    <tr>\n",
       "      <th>4</th>\n",
       "      <td>M1H</td>\n",
       "      <td>Scarborough</td>\n",
       "      <td>Cedarbrae</td>\n",
       "      <td>43.773136</td>\n",
       "      <td>-79.239476</td>\n",
       "    </tr>\n",
       "  </tbody>\n",
       "</table>\n",
       "</div>"
      ],
      "text/plain": [
       "  PostalCode      Borough                            Neighborhood   Latitude  \\\n",
       "0        M1B  Scarborough                          Rouge, Malvern  43.806686   \n",
       "1        M1C  Scarborough  Highland Creek, Rouge Hill, Port Union  43.784535   \n",
       "2        M1E  Scarborough       Guildwood, Morningside, West Hill  43.763573   \n",
       "3        M1G  Scarborough                                  Woburn  43.770992   \n",
       "4        M1H  Scarborough                               Cedarbrae  43.773136   \n",
       "\n",
       "   Longitude  \n",
       "0 -79.194353  \n",
       "1 -79.160497  \n",
       "2 -79.188711  \n",
       "3 -79.216917  \n",
       "4 -79.239476  "
      ]
     },
     "execution_count": 16,
     "metadata": {},
     "output_type": "execute_result"
    }
   ],
   "source": [
    "toronto_final.head()"
   ]
  },
  {
   "cell_type": "code",
   "execution_count": 17,
   "metadata": {},
   "outputs": [
    {
     "data": {
      "text/plain": [
       "(103, 5)"
      ]
     },
     "execution_count": 17,
     "metadata": {},
     "output_type": "execute_result"
    }
   ],
   "source": [
    "toronto_final.shape"
   ]
  }
 ],
 "metadata": {
  "kernelspec": {
   "display_name": "Python 3",
   "language": "python",
   "name": "python3"
  },
  "language_info": {
   "codemirror_mode": {
    "name": "ipython",
    "version": 3
   },
   "file_extension": ".py",
   "mimetype": "text/x-python",
   "name": "python",
   "nbconvert_exporter": "python",
   "pygments_lexer": "ipython3",
   "version": "3.8.1"
  }
 },
 "nbformat": 4,
 "nbformat_minor": 2
}
